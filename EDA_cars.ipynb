{
 "cells": [
  {
   "cell_type": "markdown",
   "id": "1e3b2d32-d184-4345-852c-7880cf8d2463",
   "metadata": {},
   "source": [
    "<div style=\"text-align: center;\">\n",
    "    <h1> Project: A Web Application for Smart Car Selection <br>\n",
    " Based on Customizable Parameters </h2>\n",
    "</div>"
   ]
  },
  {
   "cell_type": "markdown",
   "id": "b500feb1-6780-4959-9530-eaf078de9a3f",
   "metadata": {},
   "source": [
    "# Introduction\n",
    "This project involved the development and deployment of a public-facing web application designed to assist users in selecting a car that best fits their needs based on a dataset of car sales advertisements. Hosted on a cloud platform, the application provides a user-friendly interface to filter cars by price range, condition, and distance driven, allowing users to tailor their search to find their ideal vehicle.\n",
    "\n",
    "The application offers the following features:\n",
    "- **Customizable Search**: Users can filter cars by specifying a price range in <span style=\"color:blue\">slider</span> and a <span style=\"color:blue\">checkbox</span> option to show only listings in \"New,\" \"Like New,\" and \"Excellent\" condition.\n",
    "- **Dynamic Data Insights**: Filtered search results include a breakdown by car condition and price in <span style=\"color:blue\">scatter plot</span> and <span style=\"color:blue\">histogram</span> displaying the distribution of distance driven for the selected cars.\n",
    "- **Recommendations List**: Users receive a final list of recommended cars based on their specified criteria.\n",
    "\n",
    "This tool streamlines the car selection process, providing potential buyers with a curated list of vehicles to help them make informed purchasing decisions."
   ]
  },
  {
   "cell_type": "markdown",
   "id": "169f58cb-1519-45e0-8098-0456a5804872",
   "metadata": {},
   "source": [
    "# Contents \n",
    "\n",
    "* [Data Overview](#data-overview)\n",
    "* [Checking for Duplicates](#duplicates): apparant and implicit duplicates\n",
    "* [Missing values](#missing-values):\n",
    "  - [cloumn 'paint_color'](#paint-color)\n",
    "  - [column 'model_year'](#model-year)\n",
    "  - [column 'cylinders'](#cylinders)\n",
    "  - [column 'odometer'](#odometer)\n",
    "  - [column 'is_4wd'](#is-4wd)\n",
    "* [Removing Outliers](#outliers)\n",
    "  - [outliers in 'price'](#outliers-price')\n",
    "  - [outliers in 'model_year'](#outliers-model-year)\n",
    "* [Creating Web App](#web-app)"
   ]
  },
  {
   "cell_type": "markdown",
   "id": "3f8f790d-2566-4e0c-a21c-fdac62a39e14",
   "metadata": {},
   "source": [
    "<a id='data-overview'></a>\n",
    "<div style=\"background-color: #d0e6a5; padding: 10px; border-radius: 5px;\">\n",
    "    <h2>Data Overview</h2>\n",
    "</div>"
   ]
  },
  {
   "cell_type": "code",
   "execution_count": 1,
   "id": "44a6d218-7e9d-4dd5-b478-53d291c2c5b3",
   "metadata": {},
   "outputs": [],
   "source": [
    "import pandas as pd\n",
    "data = pd.read_csv('vehicles_us.csv')\n",
    "#from ydata_profiling import ProfileReport"
   ]
  },
  {
   "cell_type": "code",
   "execution_count": 2,
   "id": "056f90a0-c2b5-4f33-b7d6-9048a81dca4d",
   "metadata": {},
   "outputs": [
    {
     "name": "stdout",
     "output_type": "stream",
     "text": [
      "<class 'pandas.core.frame.DataFrame'>\n",
      "RangeIndex: 51525 entries, 0 to 51524\n",
      "Data columns (total 13 columns):\n",
      " #   Column        Non-Null Count  Dtype  \n",
      "---  ------        --------------  -----  \n",
      " 0   price         51525 non-null  int64  \n",
      " 1   model_year    47906 non-null  float64\n",
      " 2   model         51525 non-null  object \n",
      " 3   condition     51525 non-null  object \n",
      " 4   cylinders     46265 non-null  float64\n",
      " 5   fuel          51525 non-null  object \n",
      " 6   odometer      43633 non-null  float64\n",
      " 7   transmission  51525 non-null  object \n",
      " 8   type          51525 non-null  object \n",
      " 9   paint_color   42258 non-null  object \n",
      " 10  is_4wd        25572 non-null  float64\n",
      " 11  date_posted   51525 non-null  object \n",
      " 12  days_listed   51525 non-null  int64  \n",
      "dtypes: float64(4), int64(2), object(7)\n",
      "memory usage: 5.1+ MB\n"
     ]
    }
   ],
   "source": [
    "# Check characteristics of the table: name and amount of columns and type of values\n",
    "data.info()"
   ]
  },
  {
   "cell_type": "markdown",
   "id": "2a1e8b2e-41a7-43a8-90db-444cc31d2cdc",
   "metadata": {},
   "source": [
    "The names of the columns are written in the snake lowercase. No need in renaming."
   ]
  },
  {
   "cell_type": "code",
   "execution_count": 3,
   "id": "44f5d47b-11ab-499f-aa0c-7480895b2bb6",
   "metadata": {},
   "outputs": [
    {
     "data": {
      "text/html": [
       "<div>\n",
       "<style scoped>\n",
       "    .dataframe tbody tr th:only-of-type {\n",
       "        vertical-align: middle;\n",
       "    }\n",
       "\n",
       "    .dataframe tbody tr th {\n",
       "        vertical-align: top;\n",
       "    }\n",
       "\n",
       "    .dataframe thead th {\n",
       "        text-align: right;\n",
       "    }\n",
       "</style>\n",
       "<table border=\"1\" class=\"dataframe\">\n",
       "  <thead>\n",
       "    <tr style=\"text-align: right;\">\n",
       "      <th></th>\n",
       "      <th>price</th>\n",
       "      <th>model_year</th>\n",
       "      <th>model</th>\n",
       "      <th>condition</th>\n",
       "      <th>cylinders</th>\n",
       "      <th>fuel</th>\n",
       "      <th>odometer</th>\n",
       "      <th>transmission</th>\n",
       "      <th>type</th>\n",
       "      <th>paint_color</th>\n",
       "      <th>is_4wd</th>\n",
       "      <th>date_posted</th>\n",
       "      <th>days_listed</th>\n",
       "    </tr>\n",
       "  </thead>\n",
       "  <tbody>\n",
       "    <tr>\n",
       "      <th>0</th>\n",
       "      <td>9400</td>\n",
       "      <td>2011.0</td>\n",
       "      <td>bmw x5</td>\n",
       "      <td>good</td>\n",
       "      <td>6.0</td>\n",
       "      <td>gas</td>\n",
       "      <td>145000.0</td>\n",
       "      <td>automatic</td>\n",
       "      <td>SUV</td>\n",
       "      <td>NaN</td>\n",
       "      <td>1.0</td>\n",
       "      <td>2018-06-23</td>\n",
       "      <td>19</td>\n",
       "    </tr>\n",
       "    <tr>\n",
       "      <th>1</th>\n",
       "      <td>25500</td>\n",
       "      <td>NaN</td>\n",
       "      <td>ford f-150</td>\n",
       "      <td>good</td>\n",
       "      <td>6.0</td>\n",
       "      <td>gas</td>\n",
       "      <td>88705.0</td>\n",
       "      <td>automatic</td>\n",
       "      <td>pickup</td>\n",
       "      <td>white</td>\n",
       "      <td>1.0</td>\n",
       "      <td>2018-10-19</td>\n",
       "      <td>50</td>\n",
       "    </tr>\n",
       "    <tr>\n",
       "      <th>2</th>\n",
       "      <td>5500</td>\n",
       "      <td>2013.0</td>\n",
       "      <td>hyundai sonata</td>\n",
       "      <td>like new</td>\n",
       "      <td>4.0</td>\n",
       "      <td>gas</td>\n",
       "      <td>110000.0</td>\n",
       "      <td>automatic</td>\n",
       "      <td>sedan</td>\n",
       "      <td>red</td>\n",
       "      <td>NaN</td>\n",
       "      <td>2019-02-07</td>\n",
       "      <td>79</td>\n",
       "    </tr>\n",
       "    <tr>\n",
       "      <th>3</th>\n",
       "      <td>1500</td>\n",
       "      <td>2003.0</td>\n",
       "      <td>ford f-150</td>\n",
       "      <td>fair</td>\n",
       "      <td>8.0</td>\n",
       "      <td>gas</td>\n",
       "      <td>NaN</td>\n",
       "      <td>automatic</td>\n",
       "      <td>pickup</td>\n",
       "      <td>NaN</td>\n",
       "      <td>NaN</td>\n",
       "      <td>2019-03-22</td>\n",
       "      <td>9</td>\n",
       "    </tr>\n",
       "    <tr>\n",
       "      <th>4</th>\n",
       "      <td>14900</td>\n",
       "      <td>2017.0</td>\n",
       "      <td>chrysler 200</td>\n",
       "      <td>excellent</td>\n",
       "      <td>4.0</td>\n",
       "      <td>gas</td>\n",
       "      <td>80903.0</td>\n",
       "      <td>automatic</td>\n",
       "      <td>sedan</td>\n",
       "      <td>black</td>\n",
       "      <td>NaN</td>\n",
       "      <td>2019-04-02</td>\n",
       "      <td>28</td>\n",
       "    </tr>\n",
       "    <tr>\n",
       "      <th>5</th>\n",
       "      <td>14990</td>\n",
       "      <td>2014.0</td>\n",
       "      <td>chrysler 300</td>\n",
       "      <td>excellent</td>\n",
       "      <td>6.0</td>\n",
       "      <td>gas</td>\n",
       "      <td>57954.0</td>\n",
       "      <td>automatic</td>\n",
       "      <td>sedan</td>\n",
       "      <td>black</td>\n",
       "      <td>1.0</td>\n",
       "      <td>2018-06-20</td>\n",
       "      <td>15</td>\n",
       "    </tr>\n",
       "    <tr>\n",
       "      <th>6</th>\n",
       "      <td>12990</td>\n",
       "      <td>2015.0</td>\n",
       "      <td>toyota camry</td>\n",
       "      <td>excellent</td>\n",
       "      <td>4.0</td>\n",
       "      <td>gas</td>\n",
       "      <td>79212.0</td>\n",
       "      <td>automatic</td>\n",
       "      <td>sedan</td>\n",
       "      <td>white</td>\n",
       "      <td>NaN</td>\n",
       "      <td>2018-12-27</td>\n",
       "      <td>73</td>\n",
       "    </tr>\n",
       "    <tr>\n",
       "      <th>7</th>\n",
       "      <td>15990</td>\n",
       "      <td>2013.0</td>\n",
       "      <td>honda pilot</td>\n",
       "      <td>excellent</td>\n",
       "      <td>6.0</td>\n",
       "      <td>gas</td>\n",
       "      <td>109473.0</td>\n",
       "      <td>automatic</td>\n",
       "      <td>SUV</td>\n",
       "      <td>black</td>\n",
       "      <td>1.0</td>\n",
       "      <td>2019-01-07</td>\n",
       "      <td>68</td>\n",
       "    </tr>\n",
       "    <tr>\n",
       "      <th>8</th>\n",
       "      <td>11500</td>\n",
       "      <td>2012.0</td>\n",
       "      <td>kia sorento</td>\n",
       "      <td>excellent</td>\n",
       "      <td>4.0</td>\n",
       "      <td>gas</td>\n",
       "      <td>104174.0</td>\n",
       "      <td>automatic</td>\n",
       "      <td>SUV</td>\n",
       "      <td>NaN</td>\n",
       "      <td>1.0</td>\n",
       "      <td>2018-07-16</td>\n",
       "      <td>19</td>\n",
       "    </tr>\n",
       "    <tr>\n",
       "      <th>9</th>\n",
       "      <td>9200</td>\n",
       "      <td>2008.0</td>\n",
       "      <td>honda pilot</td>\n",
       "      <td>excellent</td>\n",
       "      <td>NaN</td>\n",
       "      <td>gas</td>\n",
       "      <td>147191.0</td>\n",
       "      <td>automatic</td>\n",
       "      <td>SUV</td>\n",
       "      <td>blue</td>\n",
       "      <td>1.0</td>\n",
       "      <td>2019-02-15</td>\n",
       "      <td>17</td>\n",
       "    </tr>\n",
       "  </tbody>\n",
       "</table>\n",
       "</div>"
      ],
      "text/plain": [
       "   price  model_year           model  condition  cylinders fuel  odometer  \\\n",
       "0   9400      2011.0          bmw x5       good        6.0  gas  145000.0   \n",
       "1  25500         NaN      ford f-150       good        6.0  gas   88705.0   \n",
       "2   5500      2013.0  hyundai sonata   like new        4.0  gas  110000.0   \n",
       "3   1500      2003.0      ford f-150       fair        8.0  gas       NaN   \n",
       "4  14900      2017.0    chrysler 200  excellent        4.0  gas   80903.0   \n",
       "5  14990      2014.0    chrysler 300  excellent        6.0  gas   57954.0   \n",
       "6  12990      2015.0    toyota camry  excellent        4.0  gas   79212.0   \n",
       "7  15990      2013.0     honda pilot  excellent        6.0  gas  109473.0   \n",
       "8  11500      2012.0     kia sorento  excellent        4.0  gas  104174.0   \n",
       "9   9200      2008.0     honda pilot  excellent        NaN  gas  147191.0   \n",
       "\n",
       "  transmission    type paint_color  is_4wd date_posted  days_listed  \n",
       "0    automatic     SUV         NaN     1.0  2018-06-23           19  \n",
       "1    automatic  pickup       white     1.0  2018-10-19           50  \n",
       "2    automatic   sedan         red     NaN  2019-02-07           79  \n",
       "3    automatic  pickup         NaN     NaN  2019-03-22            9  \n",
       "4    automatic   sedan       black     NaN  2019-04-02           28  \n",
       "5    automatic   sedan       black     1.0  2018-06-20           15  \n",
       "6    automatic   sedan       white     NaN  2018-12-27           73  \n",
       "7    automatic     SUV       black     1.0  2019-01-07           68  \n",
       "8    automatic     SUV         NaN     1.0  2018-07-16           19  \n",
       "9    automatic     SUV        blue     1.0  2019-02-15           17  "
      ]
     },
     "execution_count": 3,
     "metadata": {},
     "output_type": "execute_result"
    }
   ],
   "source": [
    "# Check the quality of data in the columns\n",
    "data.head(10)  "
   ]
  },
  {
   "cell_type": "markdown",
   "id": "9ba4f3b2-ff61-4c56-b835-f328032f172e",
   "metadata": {},
   "source": [
    "<div style=\"background-color: #d0e6a5; padding: 10px; border-radius: 5px;\">\n",
    "    <h2>Data Overview: Conclusion</h2>\n",
    "    <p> Data is structured in 13 columns</p>\n",
    "</div>"
   ]
  },
  {
   "cell_type": "markdown",
   "id": "7f9f7ef8-7d52-447e-96e7-07063c35fc0d",
   "metadata": {},
   "source": [
    "<a id='duplicates'></a>\n",
    "\n",
    "<div style=\"background-color: #d0e6a5; padding: 10px; border-radius: 5px;\">\n",
    "    <h2>Checking For Duplicates</h2>\n",
    "</div>"
   ]
  },
  {
   "cell_type": "code",
   "execution_count": 68,
   "id": "e788d55a-68b5-4029-bff1-7909d1de89f4",
   "metadata": {},
   "outputs": [
    {
     "name": "stdout",
     "output_type": "stream",
     "text": [
      "0\n",
      "Empty DataFrame\n",
      "Columns: [price, model_year, model, condition, cylinders, fuel, odometer, transmission, type, paint_color, is_4wd, date_posted, days_listed]\n",
      "Index: []\n"
     ]
    }
   ],
   "source": [
    "# Check apparent duplicates in the table\n",
    "\n",
    "print(data.duplicated().sum())\n",
    "duplicates=data[data.duplicated()]\n",
    "print(duplicates)"
   ]
  },
  {
   "cell_type": "code",
   "execution_count": 5,
   "id": "6b8ab3b2-ceb7-48d7-acf8-cfeb40c10b64",
   "metadata": {},
   "outputs": [],
   "source": [
    "# No apparent duplicates found."
   ]
  },
  {
   "cell_type": "code",
   "execution_count": 6,
   "id": "cb3ae2b0-2aee-42a1-b561-d31620943474",
   "metadata": {},
   "outputs": [
    {
     "name": "stdout",
     "output_type": "stream",
     "text": [
      "['acura tl' 'bmw x5' 'buick enclave' 'cadillac escalade'\n",
      " 'chevrolet camaro' 'chevrolet camaro lt coupe 2d' 'chevrolet colorado'\n",
      " 'chevrolet corvette' 'chevrolet cruze' 'chevrolet equinox'\n",
      " 'chevrolet impala' 'chevrolet malibu' 'chevrolet silverado'\n",
      " 'chevrolet silverado 1500' 'chevrolet silverado 1500 crew'\n",
      " 'chevrolet silverado 2500hd' 'chevrolet silverado 3500hd'\n",
      " 'chevrolet suburban' 'chevrolet tahoe' 'chevrolet trailblazer'\n",
      " 'chevrolet traverse' 'chrysler 200' 'chrysler 300'\n",
      " 'chrysler town & country' 'dodge charger' 'dodge dakota'\n",
      " 'dodge grand caravan' 'ford econoline' 'ford edge' 'ford escape'\n",
      " 'ford expedition' 'ford explorer' 'ford f-150' 'ford f-250'\n",
      " 'ford f-250 sd' 'ford f-250 super duty' 'ford f-350 sd' 'ford f150'\n",
      " 'ford f150 supercrew cab xlt' 'ford f250' 'ford f250 super duty'\n",
      " 'ford f350' 'ford f350 super duty' 'ford focus' 'ford focus se'\n",
      " 'ford fusion' 'ford fusion se' 'ford mustang' 'ford mustang gt coupe 2d'\n",
      " 'ford ranger' 'ford taurus' 'gmc acadia' 'gmc sierra' 'gmc sierra 1500'\n",
      " 'gmc sierra 2500hd' 'gmc yukon' 'honda accord' 'honda civic'\n",
      " 'honda civic lx' 'honda cr-v' 'honda odyssey' 'honda pilot'\n",
      " 'hyundai elantra' 'hyundai santa fe' 'hyundai sonata' 'jeep cherokee'\n",
      " 'jeep grand cherokee' 'jeep grand cherokee laredo' 'jeep liberty'\n",
      " 'jeep wrangler' 'jeep wrangler unlimited' 'kia sorento' 'kia soul'\n",
      " 'mercedes-benz benze sprinter 2500' 'nissan altima' 'nissan frontier'\n",
      " 'nissan frontier crew cab sv' 'nissan maxima' 'nissan murano'\n",
      " 'nissan rogue' 'nissan sentra' 'nissan versa' 'ram 1500' 'ram 2500'\n",
      " 'ram 3500' 'subaru forester' 'subaru impreza' 'subaru outback'\n",
      " 'toyota 4runner' 'toyota camry' 'toyota camry le' 'toyota corolla'\n",
      " 'toyota highlander' 'toyota prius' 'toyota rav4' 'toyota sienna'\n",
      " 'toyota tacoma' 'toyota tundra' 'volkswagen jetta' 'volkswagen passat']\n"
     ]
    }
   ],
   "source": [
    "# Check implicit duplicates in the table - column \"model\"\n",
    "\n",
    "print(data['model'].sort_values().unique())"
   ]
  },
  {
   "cell_type": "code",
   "execution_count": 7,
   "id": "9c0c0977-8e45-4181-8c32-19f02fa480a9",
   "metadata": {},
   "outputs": [
    {
     "name": "stdout",
     "output_type": "stream",
     "text": [
      "ford f-150\n",
      "ford fusion se\n",
      "ford focus\n",
      "ford f150 supercrew cab xlt\n",
      "ford f-250 sd\n",
      "ford f250 super duty\n",
      "ford f-350 sd\n",
      "ford f-250\n",
      "ford f150\n",
      "ford f350 super duty\n",
      "ford fusion\n",
      "ford f-250 super duty\n",
      "ford focus se\n",
      "ford f250\n",
      "ford f350\n"
     ]
    }
   ],
   "source": [
    "# Loop through unique models to find those containing \"ford f\"\n",
    "\n",
    "for model in data['model'].unique():\n",
    "    if \"ford f\" in model.lower():\n",
    "        print(model)"
   ]
  },
  {
   "cell_type": "code",
   "execution_count": 8,
   "id": "d6fe0300-b804-4412-b9cb-730b0c72c337",
   "metadata": {},
   "outputs": [
    {
     "name": "stdout",
     "output_type": "stream",
     "text": [
      "ford f-150\n",
      "ford f150 supercrew cab xlt\n",
      "ford f150\n"
     ]
    }
   ],
   "source": [
    "# Loop through unique models to find those containing \"ford\" and \"150\"\n",
    "\n",
    "for model in data['model'].unique():\n",
    "    if \"ford\" in model.lower() and \"150\" in model.lower():\n",
    "        print(model)"
   ]
  },
  {
   "cell_type": "code",
   "execution_count": 9,
   "id": "b38b977e-b9f3-4668-ae15-9770bbf1a3c1",
   "metadata": {},
   "outputs": [],
   "source": [
    "# function for replacing implicit duplicates\n",
    "wrong_ford_150 = ['ford f150','ford f150 supercrew cab xlt'] #list of duplicates\n",
    "correct_ford_150 = 'ford f-150' #string - correct value\n",
    "\n",
    "# Define the function with a condition for replacement\n",
    "def replace_wrong_ford_150(wrong_ford_150, correct_ford_150):\n",
    "    for pattern in wrong_ford_150:\n",
    "        # Use regex replacement to target specific parts of the model names\n",
    "        data['model'] = data['model'].str.replace(rf'\\b{pattern}\\b', correct_ford_150, regex=True)\n",
    "        \n",
    "replace_wrong_ford_150(wrong_ford_150, correct_ford_150)"
   ]
  },
  {
   "cell_type": "code",
   "execution_count": 10,
   "id": "0f638529-9934-4e00-a405-4bf657c85d98",
   "metadata": {},
   "outputs": [
    {
     "name": "stdout",
     "output_type": "stream",
     "text": [
      "ford f-150\n",
      "ford f-150 supercrew cab xlt\n"
     ]
    }
   ],
   "source": [
    "# Check unique models, containing \"ford\" and \"150\"\n",
    "\n",
    "for model in data['model'].unique():\n",
    "    if \"ford\" in model.lower() and \"150\" in model.lower():\n",
    "        print(model)"
   ]
  },
  {
   "cell_type": "code",
   "execution_count": 11,
   "id": "d430c24d-3299-4cf5-ae61-26da9029350e",
   "metadata": {},
   "outputs": [
    {
     "name": "stdout",
     "output_type": "stream",
     "text": [
      "ford f-250 sd\n",
      "ford f250 super duty\n",
      "ford f-250\n",
      "ford f-250 super duty\n",
      "ford f250\n"
     ]
    }
   ],
   "source": [
    "# Loop through unique models to find those containing \"ford\" and \"250\"\n",
    "\n",
    "for model in data['model'].unique():\n",
    "    if \"ford\" in model.lower() and \"250\" in model.lower():\n",
    "        print(model)"
   ]
  },
  {
   "cell_type": "code",
   "execution_count": 12,
   "id": "51695784-5530-48cf-ba4f-5a72d8a2fe99",
   "metadata": {},
   "outputs": [],
   "source": [
    "# function for replacing implicit duplicates\n",
    "wrong_ford_250 = ['ford f250 super duty','ford f250'] \n",
    "correct_ford_250 = 'ford f-250' \n",
    "\n",
    "# Define the function with a condition for replacement\n",
    "def replace_wrong_ford_250(wrong_ford_250, correct_ford_250):\n",
    "    for pattern in wrong_ford_250:\n",
    "        # Use regex replacement to target specific parts of the model names\n",
    "        data['model'] = data['model'].str.replace(rf'\\b{pattern}\\b', correct_ford_250, regex=True)\n",
    "    # Replace 'super duty' with 'sd' (case-insensitive)\n",
    "    data['model'] = data['model'].str.replace(r'(?i)super duty', 'sd', regex=True)\n",
    "\n",
    "replace_wrong_ford_250(wrong_ford_250, correct_ford_250)"
   ]
  },
  {
   "cell_type": "code",
   "execution_count": 13,
   "id": "c77a047a-bf82-4a76-84e7-3f41b093c32f",
   "metadata": {},
   "outputs": [
    {
     "name": "stdout",
     "output_type": "stream",
     "text": [
      "ford f-250 sd\n",
      "ford f-250\n"
     ]
    }
   ],
   "source": [
    "# Check unique models, containing \"ford\" and \"250\"\n",
    "\n",
    "for model in data['model'].unique():\n",
    "    if \"ford\" in model.lower() and \"250\" in model.lower():\n",
    "        print(model)"
   ]
  },
  {
   "cell_type": "code",
   "execution_count": 14,
   "id": "239bc62e-82a4-46ec-b857-6b5d0d2bffca",
   "metadata": {},
   "outputs": [
    {
     "name": "stdout",
     "output_type": "stream",
     "text": [
      "ford f-350 sd\n",
      "ford f350 sd\n",
      "ford f350\n"
     ]
    }
   ],
   "source": [
    "# Loop through unique models to find those containing \"ford\" and \"350\"\n",
    "\n",
    "for model in data['model'].unique():\n",
    "    if \"ford\" in model.lower() and \"350\" in model.lower():\n",
    "        print(model)"
   ]
  },
  {
   "cell_type": "code",
   "execution_count": 15,
   "id": "334a62a7-985e-4209-96c0-eddfc15ece83",
   "metadata": {},
   "outputs": [],
   "source": [
    "# function for replacing implicit duplicates\n",
    "wrong_ford_350 = ['ford f350 sd','ford f350'] \n",
    "correct_ford_350 = 'ford f-350' \n",
    "\n",
    "# Define the function with a condition for replacement\n",
    "def replace_wrong_ford_350(wrong_ford_350, correct_ford_350):\n",
    "    for pattern in wrong_ford_350:\n",
    "        # Use regex replacement to target specific parts of the model names\n",
    "        data['model'] = data['model'].str.replace(rf'\\b{pattern}\\b', correct_ford_350, regex=True)\n",
    "\n",
    "replace_wrong_ford_350(wrong_ford_350, correct_ford_350)"
   ]
  },
  {
   "cell_type": "code",
   "execution_count": 16,
   "id": "f670c4b5-e3fc-4a89-bc78-61444768fa9f",
   "metadata": {},
   "outputs": [
    {
     "name": "stdout",
     "output_type": "stream",
     "text": [
      "ford f-350 sd\n",
      "ford f-350\n"
     ]
    }
   ],
   "source": [
    "# Check unique models, containing \"ford\" and \"350\"\n",
    "\n",
    "for model in data['model'].unique():\n",
    "    if \"ford\" in model.lower() and \"350\" in model.lower():\n",
    "        print(model)"
   ]
  },
  {
   "cell_type": "code",
   "execution_count": 17,
   "id": "3ecae373-247c-4058-be8f-0952ebee3b6f",
   "metadata": {},
   "outputs": [
    {
     "name": "stdout",
     "output_type": "stream",
     "text": [
      "['acura tl' 'bmw x5' 'buick enclave' 'cadillac escalade'\n",
      " 'chevrolet camaro' 'chevrolet camaro lt coupe 2d' 'chevrolet colorado'\n",
      " 'chevrolet corvette' 'chevrolet cruze' 'chevrolet equinox'\n",
      " 'chevrolet impala' 'chevrolet malibu' 'chevrolet silverado'\n",
      " 'chevrolet silverado 1500' 'chevrolet silverado 1500 crew'\n",
      " 'chevrolet silverado 2500hd' 'chevrolet silverado 3500hd'\n",
      " 'chevrolet suburban' 'chevrolet tahoe' 'chevrolet trailblazer'\n",
      " 'chevrolet traverse' 'chrysler 200' 'chrysler 300'\n",
      " 'chrysler town & country' 'dodge charger' 'dodge dakota'\n",
      " 'dodge grand caravan' 'ford econoline' 'ford edge' 'ford escape'\n",
      " 'ford expedition' 'ford explorer' 'ford f-150'\n",
      " 'ford f-150 supercrew cab xlt' 'ford f-250' 'ford f-250 sd' 'ford f-350'\n",
      " 'ford f-350 sd' 'ford focus' 'ford focus se' 'ford fusion'\n",
      " 'ford fusion se' 'ford mustang' 'ford mustang gt coupe 2d' 'ford ranger'\n",
      " 'ford taurus' 'gmc acadia' 'gmc sierra' 'gmc sierra 1500'\n",
      " 'gmc sierra 2500hd' 'gmc yukon' 'honda accord' 'honda civic'\n",
      " 'honda civic lx' 'honda cr-v' 'honda odyssey' 'honda pilot'\n",
      " 'hyundai elantra' 'hyundai santa fe' 'hyundai sonata' 'jeep cherokee'\n",
      " 'jeep grand cherokee' 'jeep grand cherokee laredo' 'jeep liberty'\n",
      " 'jeep wrangler' 'jeep wrangler unlimited' 'kia sorento' 'kia soul'\n",
      " 'mercedes-benz benze sprinter 2500' 'nissan altima' 'nissan frontier'\n",
      " 'nissan frontier crew cab sv' 'nissan maxima' 'nissan murano'\n",
      " 'nissan rogue' 'nissan sentra' 'nissan versa' 'ram 1500' 'ram 2500'\n",
      " 'ram 3500' 'subaru forester' 'subaru impreza' 'subaru outback'\n",
      " 'toyota 4runner' 'toyota camry' 'toyota camry le' 'toyota corolla'\n",
      " 'toyota highlander' 'toyota prius' 'toyota rav4' 'toyota sienna'\n",
      " 'toyota tacoma' 'toyota tundra' 'volkswagen jetta' 'volkswagen passat']\n"
     ]
    }
   ],
   "source": [
    "print(data['model'].sort_values().unique())"
   ]
  },
  {
   "cell_type": "markdown",
   "id": "f0c22a94-f971-4103-b699-3c32c833a988",
   "metadata": {},
   "source": [
    "<div style=\"background-color: #d0e6a5; padding: 10px; border-radius: 5px;\">\n",
    "    <h3>Duplicates: Conclusion</h3>\n",
    "    <p>No apparent duplicates were found. <br> \n",
    "Implicit duplicates in \"Ford\" model names were identified and standardized by unifying \"f\" models with a hyphen between \"f\" and the model number (e.g., \"f-150\").</p>\n",
    "</div>"
   ]
  },
  {
   "cell_type": "markdown",
   "id": "16597658-761f-459f-961a-fe9692ebfa9f",
   "metadata": {},
   "source": [
    "## YDATA REPORT"
   ]
  },
  {
   "cell_type": "code",
   "execution_count": 18,
   "id": "9bbc1db8-df88-43cf-a34a-cc54f65cc9de",
   "metadata": {
    "scrolled": true
   },
   "outputs": [],
   "source": [
    "#Auxiliary Data Analysis\n",
    "#data.profile_report()"
   ]
  },
  {
   "cell_type": "markdown",
   "id": "0bb93428-89b1-4d86-8b0f-ca08238d6e05",
   "metadata": {},
   "source": [
    "<a id='missing-values'></a>\n",
    "<div style=\"background-color: #d0e6a5; padding: 10px; border-radius: 5px;\">\n",
    "    <h2>Missing Values</h2>\n",
    "</div>"
   ]
  },
  {
   "cell_type": "code",
   "execution_count": 19,
   "id": "eb8c11c4-11dd-4bf6-8aa7-e83fd25f23f9",
   "metadata": {},
   "outputs": [
    {
     "data": {
      "text/plain": [
       "price               0\n",
       "model_year       3619\n",
       "model               0\n",
       "condition           0\n",
       "cylinders        5260\n",
       "fuel                0\n",
       "odometer         7892\n",
       "transmission        0\n",
       "type                0\n",
       "paint_color      9267\n",
       "is_4wd          25953\n",
       "date_posted         0\n",
       "days_listed         0\n",
       "dtype: int64"
      ]
     },
     "execution_count": 19,
     "metadata": {},
     "output_type": "execute_result"
    }
   ],
   "source": [
    "# Check missing values\n",
    "\n",
    "data.isna().sum()"
   ]
  },
  {
   "cell_type": "markdown",
   "id": "5477032c-dbd7-4ce4-8d08-4f319422efad",
   "metadata": {},
   "source": [
    "### Columns that contain missing values:\n",
    "- model_year\n",
    "- cylinders\n",
    "- odometer\n",
    "- paint_color\n",
    "- is_4wd\n",
    "\n",
    "We state high correllation between:\n",
    "- model year to odometer (distance the car has driven) and price\n",
    "- odometer to model year\n",
    "- price to model year"
   ]
  },
  {
   "cell_type": "markdown",
   "id": "2236cbda-d294-479a-9b52-e490f7fcff00",
   "metadata": {},
   "source": [
    "<a id='paint-color'></a>\n",
    "<div style=\"background-color: pink; padding: 10px; border-radius: 5px;\">\n",
    "    <h3>Column 'paint_color'</h3>\n",
    "</div>"
   ]
  },
  {
   "cell_type": "code",
   "execution_count": 20,
   "id": "bbf7edcc-8b6d-454f-bca7-7256f6585acc",
   "metadata": {},
   "outputs": [
    {
     "name": "stdout",
     "output_type": "stream",
     "text": [
      "9267\n"
     ]
    }
   ],
   "source": [
    "# Number of missing valaues in column 'paint_color'\n",
    "\n",
    "print(data['paint_color'].isna().sum())"
   ]
  },
  {
   "cell_type": "code",
   "execution_count": 21,
   "id": "9a9777ee-e477-4ea8-bd4c-b055f2b43fd3",
   "metadata": {},
   "outputs": [
    {
     "name": "stdout",
     "output_type": "stream",
     "text": [
      "['unknown' 'white' 'red' 'black' 'blue' 'grey' 'silver' 'custom' 'orange'\n",
      " 'yellow' 'brown' 'green' 'purple']\n"
     ]
    }
   ],
   "source": [
    "# Replace missing values in column 'paint_color' by 'unknown'\n",
    "\n",
    "data['paint_color']=data['paint_color'].fillna('unknown')\n",
    "print(data['paint_color'].unique())"
   ]
  },
  {
   "cell_type": "markdown",
   "id": "3907a611-ac02-4ffb-9295-f68512be6b67",
   "metadata": {},
   "source": [
    "<a id='model-year'></a>\n",
    "<div style=\"background-color: pink; padding: 10px; border-radius: 5px;\">\n",
    "    <h3>Column 'model_year'</h3>\n",
    "</div>"
   ]
  },
  {
   "cell_type": "code",
   "execution_count": 22,
   "id": "9911ad2f-b0ab-4770-9a5f-424ec3053ff4",
   "metadata": {},
   "outputs": [
    {
     "name": "stdout",
     "output_type": "stream",
     "text": [
      "3619\n"
     ]
    }
   ],
   "source": [
    "# Check number of missing values in the column 'model_year'\n",
    "\n",
    "print(data['model_year'].isna().sum())"
   ]
  },
  {
   "cell_type": "code",
   "execution_count": 23,
   "id": "cd9b65fd-e4d4-4d1b-8b26-24cf60863f5a",
   "metadata": {},
   "outputs": [
    {
     "name": "stdout",
     "output_type": "stream",
     "text": [
      "model\n",
      "acura tl             2007.5\n",
      "bmw x5               2009.0\n",
      "buick enclave        2012.2\n",
      "cadillac escalade    2008.5\n",
      "chevrolet camaro     2008.4\n",
      "                      ...  \n",
      "toyota sienna        2008.6\n",
      "toyota tacoma        2009.3\n",
      "toyota tundra        2009.4\n",
      "volkswagen jetta     2010.8\n",
      "volkswagen passat    2011.3\n",
      "Name: model_year, Length: 95, dtype: float64\n"
     ]
    }
   ],
   "source": [
    "# Calculate mean 'model_year' for each 'model'\n",
    "\n",
    "mean_model_year = data.groupby('model')['model_year'].mean().round(1)\n",
    "print(mean_model_year)"
   ]
  },
  {
   "cell_type": "code",
   "execution_count": 24,
   "id": "bc6bccf5-b3af-4c63-861e-367bb7230291",
   "metadata": {},
   "outputs": [
    {
     "name": "stdout",
     "output_type": "stream",
     "text": [
      "0\n"
     ]
    }
   ],
   "source": [
    "# Create custom function to replace missing 'model_year' by the mean value of the corresponding 'model'\n",
    "\n",
    "def fill_missing_model_year(row):\n",
    "    if pd.isna(row['model_year']):\n",
    "        return mean_model_year.get(row['model'],row['model_year'])\n",
    "    else:\n",
    "        return row['model_year']\n",
    "\n",
    "data['model_year']=data.apply(fill_missing_model_year, axis=1)\n",
    "print(data['model_year'].isna().sum())"
   ]
  },
  {
   "cell_type": "markdown",
   "id": "d0dd186c-71cc-416b-a0d8-3333ea42c0b5",
   "metadata": {},
   "source": [
    "<a id='cylinders'></a>\n",
    "<div style=\"background-color: pink; padding: 10px; border-radius: 5px;\">\n",
    "    <h3>Column 'cylinders'</h3>\n",
    "</div>"
   ]
  },
  {
   "cell_type": "code",
   "execution_count": 25,
   "id": "e9e2585d-a7ec-4be5-81f4-625b7ed141b4",
   "metadata": {},
   "outputs": [
    {
     "name": "stdout",
     "output_type": "stream",
     "text": [
      "5260\n",
      "[ 6.  4.  8. nan  5. 10.  3. 12.]\n"
     ]
    }
   ],
   "source": [
    "print(data['cylinders'].isna().sum())\n",
    "print(data['cylinders'].unique())"
   ]
  },
  {
   "cell_type": "code",
   "execution_count": 66,
   "id": "4deda1cc-2591-4503-866f-b3e03bbf5caf",
   "metadata": {},
   "outputs": [
    {
     "name": "stdout",
     "output_type": "stream",
     "text": [
      "The history saving thread hit an unexpected error (OperationalError('attempt to write a readonly database')).History will not be written to the database.\n",
      "0\n",
      "[ 6.  4.  8.  0.  5. 10.  3. 12.]\n"
     ]
    }
   ],
   "source": [
    "# Replace missing values in column 'cylinders' by '0.0'\n",
    "\n",
    "data['cylinders']=data['cylinders'].fillna(0.0)\n",
    "print(data['cylinders'].isna().sum())\n",
    "print(data['cylinders'].unique())"
   ]
  },
  {
   "cell_type": "markdown",
   "id": "e5e73d2a-4161-4db4-bc39-5d7eef601158",
   "metadata": {},
   "source": [
    "<a id='odometer'></a>\n",
    "<div style=\"background-color: pink; padding: 10px; border-radius: 5px;\">\n",
    "    <h3>Column 'odometer'</h3>\n",
    "</div>"
   ]
  },
  {
   "cell_type": "code",
   "execution_count": 27,
   "id": "16ff24e5-9ed2-4486-9f87-77dfd7a012da",
   "metadata": {},
   "outputs": [
    {
     "name": "stdout",
     "output_type": "stream",
     "text": [
      "7892\n"
     ]
    }
   ],
   "source": [
    "# Calculate number of missing values in 'odometer' column\n",
    "\n",
    "print(data['odometer'].isna().sum())"
   ]
  },
  {
   "cell_type": "code",
   "execution_count": 28,
   "id": "384fa44e-b5d8-4d77-9fac-8300a8229968",
   "metadata": {},
   "outputs": [
    {
     "name": "stdout",
     "output_type": "stream",
     "text": [
      "model\n",
      "acura tl             142760.4\n",
      "bmw x5               113210.1\n",
      "buick enclave        113459.5\n",
      "cadillac escalade    123616.6\n",
      "chevrolet camaro      71068.0\n",
      "                       ...   \n",
      "toyota sienna        136911.1\n",
      "toyota tacoma        126521.3\n",
      "toyota tundra        123271.2\n",
      "volkswagen jetta     107870.0\n",
      "volkswagen passat     90764.4\n",
      "Name: odometer, Length: 95, dtype: float64\n"
     ]
    }
   ],
   "source": [
    "# Calculate mean distance driven by car by 'model'\n",
    "\n",
    "mean_model_distance = data.groupby('model')['odometer'].mean().round(1)\n",
    "print(mean_model_distance)"
   ]
  },
  {
   "cell_type": "code",
   "execution_count": 29,
   "id": "76a69c8a-de6a-43ee-bd08-dce49e9e9080",
   "metadata": {},
   "outputs": [
    {
     "name": "stdout",
     "output_type": "stream",
     "text": [
      "0        False\n",
      "1        False\n",
      "2        False\n",
      "3        False\n",
      "4        False\n",
      "         ...  \n",
      "51520    False\n",
      "51521    False\n",
      "51522    False\n",
      "51523    False\n",
      "51524    False\n",
      "Name: odometer, Length: 51525, dtype: bool\n"
     ]
    }
   ],
   "source": [
    "# Create custom function to replace missing 'odometer' by the mean value of the corresponding 'model'\n",
    "\n",
    "def fill_missing_odometer(row):\n",
    "    if pd.isna(row['odometer']):\n",
    "        return mean_model_distance.get(row['model'],row['odometer'])\n",
    "    else:\n",
    "        return row['odometer']\n",
    "\n",
    "data['odometer']=data.apply(fill_missing_odometer, axis=1)\n",
    "still_missing_odometer=data['odometer'].isna()\n",
    "print(still_missing_odometer)"
   ]
  },
  {
   "cell_type": "code",
   "execution_count": 30,
   "id": "16f2de10-2843-4256-a5dd-003e32bfd2ec",
   "metadata": {},
   "outputs": [
    {
     "name": "stdout",
     "output_type": "stream",
     "text": [
      "115518.0\n"
     ]
    }
   ],
   "source": [
    "odometer_mean=data['odometer'].mean().round(1)\n",
    "print(odometer_mean)"
   ]
  },
  {
   "cell_type": "code",
   "execution_count": 31,
   "id": "c2c68993-70ac-4bfd-9779-556fa245ab41",
   "metadata": {},
   "outputs": [
    {
     "name": "stdout",
     "output_type": "stream",
     "text": [
      "0\n"
     ]
    }
   ],
   "source": [
    "data.loc[still_missing_odometer, 'odometer'] = odometer_mean\n",
    "print(data['odometer'].isna().sum())"
   ]
  },
  {
   "cell_type": "markdown",
   "id": "8343fdb6-554e-450c-91bb-dafc36e14887",
   "metadata": {},
   "source": [
    "<a id='is-4wd'></a>\n",
    "<div style=\"background-color: pink; padding: 10px; border-radius: 5px;\">\n",
    "    <h3>Column 'is_4wd'</h3>\n",
    "</div>"
   ]
  },
  {
   "cell_type": "code",
   "execution_count": 32,
   "id": "523f94d2-ed4c-4ced-a193-63300a664e2f",
   "metadata": {},
   "outputs": [
    {
     "name": "stdout",
     "output_type": "stream",
     "text": [
      "25953\n",
      "25953\n",
      "[ 1. nan]\n"
     ]
    }
   ],
   "source": [
    "print(data['is_4wd'].isna().sum())\n",
    "print(data['is_4wd'].isnull().sum())\n",
    "print(data['is_4wd'].unique())"
   ]
  },
  {
   "cell_type": "code",
   "execution_count": 33,
   "id": "cfe67b02-9326-45c0-92a4-84dab0cbab34",
   "metadata": {},
   "outputs": [
    {
     "name": "stdout",
     "output_type": "stream",
     "text": [
      "type\n",
      "SUV            8853.0\n",
      "bus               0.0\n",
      "convertible      53.0\n",
      "coupe            76.0\n",
      "hatchback       160.0\n",
      "mini-van         39.0\n",
      "offroad         206.0\n",
      "other           126.0\n",
      "pickup         5026.0\n",
      "sedan           563.0\n",
      "truck          9357.0\n",
      "van              40.0\n",
      "wagon          1073.0\n",
      "Name: is_4wd, dtype: float64\n"
     ]
    }
   ],
   "source": [
    "print(data.groupby('type')['is_4wd'].sum())"
   ]
  },
  {
   "cell_type": "code",
   "execution_count": 34,
   "id": "648bdcf7-d677-4e79-be80-c636697f64e3",
   "metadata": {},
   "outputs": [
    {
     "name": "stdout",
     "output_type": "stream",
     "text": [
      "0        False\n",
      "1        False\n",
      "2         True\n",
      "3         True\n",
      "4         True\n",
      "         ...  \n",
      "51520     True\n",
      "51521     True\n",
      "51522     True\n",
      "51523     True\n",
      "51524     True\n",
      "Name: is_4wd, Length: 51525, dtype: bool\n"
     ]
    }
   ],
   "source": [
    "# Create a variable for the missing values in column 'is_4wd'\n",
    "\n",
    "missing_4wd = data['is_4wd'].isna()\n",
    "print(missing_4wd)"
   ]
  },
  {
   "cell_type": "code",
   "execution_count": 35,
   "id": "14f9f383-5f46-4c4f-9ffd-4de2b2b0892d",
   "metadata": {},
   "outputs": [
    {
     "name": "stdout",
     "output_type": "stream",
     "text": [
      "['acura tl' 'bmw x5' 'buick enclave' 'cadillac escalade'\n",
      " 'chevrolet camaro' 'chevrolet camaro lt coupe 2d' 'chevrolet colorado'\n",
      " 'chevrolet corvette' 'chevrolet cruze' 'chevrolet equinox'\n",
      " 'chevrolet impala' 'chevrolet malibu' 'chevrolet silverado'\n",
      " 'chevrolet silverado 1500' 'chevrolet silverado 1500 crew'\n",
      " 'chevrolet silverado 2500hd' 'chevrolet silverado 3500hd'\n",
      " 'chevrolet suburban' 'chevrolet tahoe' 'chevrolet trailblazer'\n",
      " 'chevrolet traverse' 'chrysler 200' 'chrysler 300'\n",
      " 'chrysler town & country' 'dodge charger' 'dodge dakota'\n",
      " 'dodge grand caravan' 'ford econoline' 'ford edge' 'ford escape'\n",
      " 'ford expedition' 'ford explorer' 'ford f-150'\n",
      " 'ford f-150 supercrew cab xlt' 'ford f-250' 'ford f-250 sd' 'ford f-350'\n",
      " 'ford f-350 sd' 'ford focus' 'ford focus se' 'ford fusion'\n",
      " 'ford fusion se' 'ford mustang' 'ford mustang gt coupe 2d' 'ford ranger'\n",
      " 'ford taurus' 'gmc acadia' 'gmc sierra' 'gmc sierra 1500'\n",
      " 'gmc sierra 2500hd' 'gmc yukon' 'honda accord' 'honda civic'\n",
      " 'honda civic lx' 'honda cr-v' 'honda odyssey' 'honda pilot'\n",
      " 'hyundai elantra' 'hyundai santa fe' 'hyundai sonata' 'jeep cherokee'\n",
      " 'jeep grand cherokee' 'jeep grand cherokee laredo' 'jeep liberty'\n",
      " 'jeep wrangler' 'jeep wrangler unlimited' 'kia sorento' 'kia soul'\n",
      " 'mercedes-benz benze sprinter 2500' 'nissan altima' 'nissan frontier'\n",
      " 'nissan frontier crew cab sv' 'nissan maxima' 'nissan murano'\n",
      " 'nissan rogue' 'nissan sentra' 'nissan versa' 'ram 1500' 'ram 2500'\n",
      " 'ram 3500' 'subaru forester' 'subaru impreza' 'subaru outback'\n",
      " 'toyota 4runner' 'toyota camry' 'toyota camry le' 'toyota corolla'\n",
      " 'toyota highlander' 'toyota prius' 'toyota rav4' 'toyota sienna'\n",
      " 'toyota tacoma' 'toyota tundra' 'volkswagen jetta' 'volkswagen passat']\n"
     ]
    }
   ],
   "source": [
    "# List all unique 'model' types\n",
    "\n",
    "print(data['model'].sort_values().unique())"
   ]
  },
  {
   "cell_type": "code",
   "execution_count": 36,
   "id": "8b6439c7-b915-444b-a791-8c5cf2ea4355",
   "metadata": {},
   "outputs": [],
   "source": [
    "# Create a list of models that have 4x4 version (i.e. 'is_4wd)\n",
    "\n",
    "model_4x4=['bmw x5', 'buick enclave', 'cadillac escalade', 'chevrolet colorado', 'chevrolet equinox', 'chevrolet silverado', \n",
    "           'chevrolet silverado 1500', 'chevrolet silverado 2500hd', 'chevrolet silverado 3500hd', 'chevrolet suburban', \n",
    "           'chevrolet tahoe', 'chevrolet trailblazer', 'chevrolet traverse', 'dodge dakota', 'ford expedition', 'ford explorer', \n",
    "           'ford f-150', 'ford f-250', 'ford f-250 sd', 'ford f-350', 'ford f-350 sd', 'gmc acadia', 'gmc sierra', 'gmc sierra 1500', \n",
    "           'gmc sierra 2500hd', 'gmc yukon', 'honda cr-v', 'honda pilot', 'hyundai santa fe', 'jeep cherokee', 'jeep grand cherokee', \n",
    "           'jeep grand cherokee laredo', 'jeep liberty', 'jeep wrangler', 'jeep wrangler unlimited', 'kia sorento', 'nissan frontier', \n",
    "           'nissan frontier crew cab sv', 'nissan murano', 'nissan rogue', 'ram 1500', 'ram 2500', 'ram 3500', 'subaru forester', \n",
    "           'subaru impreza', 'subaru outback', 'toyota 4runner', 'toyota highlander', 'toyota rav4', 'toyota tacoma', 'toyota tundra']\n"
   ]
  },
  {
   "cell_type": "code",
   "execution_count": 37,
   "id": "80cd6e5f-3147-4b08-9fee-0efc2468a822",
   "metadata": {},
   "outputs": [
    {
     "name": "stdout",
     "output_type": "stream",
     "text": [
      "            model  is_4wd\n",
      "0          bmw x5     1.0\n",
      "1      ford f-150     1.0\n",
      "2  hyundai sonata     0.0\n",
      "3      ford f-150     1.0\n",
      "4    chrysler 200     0.0\n"
     ]
    }
   ],
   "source": [
    "# Create a loop through the object with the missing values of 'is_4wd' column to check, if the model is in the list of 'model_4x4'.\n",
    "# If yes, then replace the missing value by 1, else 0\n",
    "\n",
    "for index, row in data[missing_4wd].iterrows():\n",
    "    if row['model'] in model_4x4:\n",
    "        data.at[index, 'is_4wd'] = 1 \n",
    "    else:\n",
    "        data.at[index, 'is_4wd'] = 0\n",
    "\n",
    "print(data[['model', 'is_4wd']].head())"
   ]
  },
  {
   "cell_type": "code",
   "execution_count": 38,
   "id": "292cd7ef-42ee-4282-a354-1f3dea772196",
   "metadata": {},
   "outputs": [
    {
     "name": "stdout",
     "output_type": "stream",
     "text": [
      "0\n"
     ]
    }
   ],
   "source": [
    "# Check number of missing values in column 'is_4wd'\n",
    "\n",
    "print(data['is_4wd'].isna().sum())"
   ]
  },
  {
   "cell_type": "code",
   "execution_count": 39,
   "id": "407cc452-dbe8-4cd7-9bd5-99f35a4092d4",
   "metadata": {},
   "outputs": [
    {
     "data": {
      "text/plain": [
       "price           0\n",
       "model_year      0\n",
       "model           0\n",
       "condition       0\n",
       "cylinders       0\n",
       "fuel            0\n",
       "odometer        0\n",
       "transmission    0\n",
       "type            0\n",
       "paint_color     0\n",
       "is_4wd          0\n",
       "date_posted     0\n",
       "days_listed     0\n",
       "dtype: int64"
      ]
     },
     "execution_count": 39,
     "metadata": {},
     "output_type": "execute_result"
    }
   ],
   "source": [
    "data.isna().sum()"
   ]
  },
  {
   "cell_type": "markdown",
   "id": "299c5c62-ef53-4351-9a87-e624260a94a6",
   "metadata": {},
   "source": [
    "<div style=\"background-color: #d0e6a5; padding: 10px; border-radius: 5px;\">\n",
    "    <h3>Missing Values: Conclusion</h3>\n",
    "    <p>\n",
    "Missing values in column 'paint_color' were replaced by \"unknown\".<br>\n",
    "Missing values in column 'model_year' were replaced by the mean year, corresponding to each model.<br>\n",
    "Missing values in column 'cylinders' were replaced by \"0.0\".<br>\n",
    "Missing values in column 'odometer' were replaced by the mean distance, corresponding to each model.<br> \n",
    "Missing values in column 'is_4wd' were filled in, according to the list of models that have 4x4 version, that was created additionally.<br>\n",
    "</p>\n",
    "</div>"
   ]
  },
  {
   "cell_type": "markdown",
   "id": "29b848e1-66b6-4650-8a40-40ce1a02dc9a",
   "metadata": {},
   "source": [
    "<a id='outliers'></a>\n",
    "<div style=\"background-color: #d0e6a5; padding: 10px; border-radius: 5px;\">\n",
    "    <h2>Removing Outliers</h2>\n",
    "</div>"
   ]
  },
  {
   "cell_type": "markdown",
   "id": "fe47f70a-16a2-4769-a08a-f91385a5ebfc",
   "metadata": {},
   "source": [
    "<a id='outliers-price'></a>\n",
    "<div style=\"background-color: pink; padding: 10px; border-radius: 5px;\">\n",
    "    <h3>Outliers in 'price'</h3>\n",
    "</div>"
   ]
  },
  {
   "cell_type": "code",
   "execution_count": 40,
   "id": "e664eb4f-4027-4164-b894-d8777427912e",
   "metadata": {},
   "outputs": [
    {
     "name": "stdout",
     "output_type": "stream",
     "text": [
      "1.0\n",
      "43995.0\n"
     ]
    }
   ],
   "source": [
    "# Find price borders for the outliers\n",
    "\n",
    "q1 = data['price'].quantile(0.01)\n",
    "q99 = data['price'].quantile(0.99)\n",
    "print(q1)\n",
    "print(q99)"
   ]
  },
  {
   "cell_type": "code",
   "execution_count": 41,
   "id": "d15aa914-1c75-43b7-9472-a7a2ef1f4af8",
   "metadata": {},
   "outputs": [
    {
     "data": {
      "text/plain": [
       "(17, 13)"
      ]
     },
     "execution_count": 41,
     "metadata": {},
     "output_type": "execute_result"
    }
   ],
   "source": [
    "# Check the amount of rows with extremely high price (>= 100000)\n",
    "\n",
    "outliers_max=data[(data['price'] >= 100000)] \n",
    "outliers_max.shape"
   ]
  },
  {
   "cell_type": "code",
   "execution_count": 42,
   "id": "d46f3b4b-9187-4a8c-b409-3a82a1788e1d",
   "metadata": {},
   "outputs": [
    {
     "data": {
      "text/plain": [
       "(798, 13)"
      ]
     },
     "execution_count": 42,
     "metadata": {},
     "output_type": "execute_result"
    }
   ],
   "source": [
    "# Check the amount of rows with extremely low price (<= 1)\n",
    "\n",
    "outliers_min=data[(data['price'] <= 1)] \n",
    "outliers_min.shape"
   ]
  },
  {
   "cell_type": "code",
   "execution_count": 43,
   "id": "aa3a402e-5947-444f-852c-b3cf1f98a431",
   "metadata": {},
   "outputs": [
    {
     "name": "stdout",
     "output_type": "stream",
     "text": [
      "0\n"
     ]
    }
   ],
   "source": [
    "print(data['price'].isna().sum())"
   ]
  },
  {
   "cell_type": "code",
   "execution_count": 44,
   "id": "77862a7d-4049-40b7-8892-24018e3469b2",
   "metadata": {},
   "outputs": [
    {
     "name": "stdout",
     "output_type": "stream",
     "text": [
      "       price  model_year           model  condition  cylinders fuel  odometer  \\\n",
      "0       9400      2011.0          bmw x5       good        6.0  gas  145000.0   \n",
      "1      25500      2009.3      ford f-150       good        6.0  gas   88705.0   \n",
      "2       5500      2013.0  hyundai sonata   like new        4.0  gas  110000.0   \n",
      "3       1500      2003.0      ford f-150       fair        8.0  gas  124194.1   \n",
      "4      14900      2017.0    chrysler 200  excellent        4.0  gas   80903.0   \n",
      "...      ...         ...             ...        ...        ...  ...       ...   \n",
      "51520   9249      2013.0   nissan maxima   like new        6.0  gas   88136.0   \n",
      "51521   2700      2002.0     honda civic    salvage        4.0  gas  181500.0   \n",
      "51522   3950      2009.0  hyundai sonata  excellent        4.0  gas  128000.0   \n",
      "51523   7455      2013.0  toyota corolla       good        4.0  gas  139573.0   \n",
      "51524   6300      2014.0   nissan altima       good        4.0  gas  105780.8   \n",
      "\n",
      "      transmission    type paint_color  is_4wd date_posted  days_listed  \n",
      "0        automatic     SUV     unknown     1.0  2018-06-23           19  \n",
      "1        automatic  pickup       white     1.0  2018-10-19           50  \n",
      "2        automatic   sedan         red     0.0  2019-02-07           79  \n",
      "3        automatic  pickup     unknown     1.0  2019-03-22            9  \n",
      "4        automatic   sedan       black     0.0  2019-04-02           28  \n",
      "...            ...     ...         ...     ...         ...          ...  \n",
      "51520    automatic   sedan       black     0.0  2018-10-03           37  \n",
      "51521    automatic   sedan       white     0.0  2018-11-14           22  \n",
      "51522    automatic   sedan        blue     0.0  2018-11-15           32  \n",
      "51523    automatic   sedan       black     0.0  2018-07-02           71  \n",
      "51524    automatic   sedan     unknown     0.0  2018-06-05           10  \n",
      "\n",
      "[51508 rows x 13 columns]\n"
     ]
    }
   ],
   "source": [
    "# Remove outliers in price = keep the rows that stay between the price borders\n",
    "\n",
    "data[(data['price'] >= 1) & (data['price'] <= 100000)]\n",
    "data = data[(data['price'] >= 1) & (data['price'] <= 100000)]\n",
    "print(data)"
   ]
  },
  {
   "cell_type": "code",
   "execution_count": 45,
   "id": "d63bc97b-7206-423e-ae5c-9a88f48aa54a",
   "metadata": {},
   "outputs": [
    {
     "name": "stdout",
     "output_type": "stream",
     "text": [
      "0\n",
      "0\n"
     ]
    }
   ],
   "source": [
    "# Check if the outliers are removed\n",
    "\n",
    "outliers_1=data['price'] < 1\n",
    "outliers_100000=data['price'] > 100000\n",
    "\n",
    "print(outliers_1.sum())\n",
    "print(outliers_100000.sum())"
   ]
  },
  {
   "cell_type": "markdown",
   "id": "703434d5-6bbe-42cb-a408-012fce34b2b3",
   "metadata": {},
   "source": [
    "<a id='outliers-model-year'></a>\n",
    "<div style=\"background-color: pink; padding: 10px; border-radius: 5px;\">\n",
    "    <h3>Outliers in 'model_year'</h3>\n",
    "</div> "
   ]
  },
  {
   "cell_type": "code",
   "execution_count": 46,
   "id": "f13fd457-c814-401e-bcdc-3f788d4fae4e",
   "metadata": {},
   "outputs": [
    {
     "name": "stdout",
     "output_type": "stream",
     "text": [
      "1991.0\n",
      "2018.0\n"
     ]
    }
   ],
   "source": [
    "# Find model_year borders for the outliers\n",
    "\n",
    "q1 = data['model_year'].quantile(0.01)\n",
    "q99 = data['model_year'].quantile(0.99)\n",
    "print(q1)\n",
    "print(q99)"
   ]
  },
  {
   "cell_type": "code",
   "execution_count": 47,
   "id": "573ca1b3-872a-434c-bb88-29894c198834",
   "metadata": {},
   "outputs": [
    {
     "data": {
      "text/plain": [
       "(103, 13)"
      ]
     },
     "execution_count": 47,
     "metadata": {},
     "output_type": "execute_result"
    }
   ],
   "source": [
    "# Check the amount of rows with extremely old cars (<= 1970)\n",
    "\n",
    "outliers_old_cars=data[(data['model_year'] <= 1970)] \n",
    "outliers_old_cars.shape"
   ]
  },
  {
   "cell_type": "code",
   "execution_count": 48,
   "id": "af833369-e3fe-4fff-a87b-0d8825034ed1",
   "metadata": {},
   "outputs": [
    {
     "name": "stdout",
     "output_type": "stream",
     "text": [
      "       price  model_year           model  condition  cylinders fuel  odometer  \\\n",
      "0       9400      2011.0          bmw x5       good        6.0  gas  145000.0   \n",
      "1      25500      2009.3      ford f-150       good        6.0  gas   88705.0   \n",
      "2       5500      2013.0  hyundai sonata   like new        4.0  gas  110000.0   \n",
      "3       1500      2003.0      ford f-150       fair        8.0  gas  124194.1   \n",
      "4      14900      2017.0    chrysler 200  excellent        4.0  gas   80903.0   \n",
      "...      ...         ...             ...        ...        ...  ...       ...   \n",
      "51520   9249      2013.0   nissan maxima   like new        6.0  gas   88136.0   \n",
      "51521   2700      2002.0     honda civic    salvage        4.0  gas  181500.0   \n",
      "51522   3950      2009.0  hyundai sonata  excellent        4.0  gas  128000.0   \n",
      "51523   7455      2013.0  toyota corolla       good        4.0  gas  139573.0   \n",
      "51524   6300      2014.0   nissan altima       good        4.0  gas  105780.8   \n",
      "\n",
      "      transmission    type paint_color  is_4wd date_posted  days_listed  \n",
      "0        automatic     SUV     unknown     1.0  2018-06-23           19  \n",
      "1        automatic  pickup       white     1.0  2018-10-19           50  \n",
      "2        automatic   sedan         red     0.0  2019-02-07           79  \n",
      "3        automatic  pickup     unknown     1.0  2019-03-22            9  \n",
      "4        automatic   sedan       black     0.0  2019-04-02           28  \n",
      "...            ...     ...         ...     ...         ...          ...  \n",
      "51520    automatic   sedan       black     0.0  2018-10-03           37  \n",
      "51521    automatic   sedan       white     0.0  2018-11-14           22  \n",
      "51522    automatic   sedan        blue     0.0  2018-11-15           32  \n",
      "51523    automatic   sedan       black     0.0  2018-07-02           71  \n",
      "51524    automatic   sedan     unknown     0.0  2018-06-05           10  \n",
      "\n",
      "[51415 rows x 13 columns]\n"
     ]
    }
   ],
   "source": [
    "# Remove outliers in model_year = keep the rows with the year, greater than 1970\n",
    "\n",
    "data=data[(data['model_year'] >= 1970)] \n",
    "print(data)"
   ]
  },
  {
   "cell_type": "code",
   "execution_count": 49,
   "id": "d042eeae-a046-4ef2-a4af-e4d0c5696c1e",
   "metadata": {},
   "outputs": [
    {
     "name": "stdout",
     "output_type": "stream",
     "text": [
      "0\n"
     ]
    }
   ],
   "source": [
    "# Check if the rows with extremely old cars (< 1970) were removed from data\n",
    "\n",
    "outliers_1970=data['model_year'] < 1970\n",
    "print(outliers_1970.sum())"
   ]
  },
  {
   "cell_type": "markdown",
   "id": "0865b44f-4da9-43e6-bda8-69608bf09bef",
   "metadata": {},
   "source": [
    "<div style=\"background-color: #d0e6a5; padding: 10px; border-radius: 5px;\">\n",
    "    <h2>Removing Outliers: Conclusion</h2>\n",
    "<p> Outliers in 'price' outside the range of 1 to 100,000 were identified and removed. <br>\n",
    "Outliers in 'model_year' before 1970 were also removed.\n",
    "</p>\n",
    "</div>"
   ]
  },
  {
   "cell_type": "code",
   "execution_count": 50,
   "id": "42226380-e618-42ff-8890-7dc379e10671",
   "metadata": {},
   "outputs": [
    {
     "data": {
      "text/plain": [
       "price           0\n",
       "model_year      0\n",
       "model           0\n",
       "condition       0\n",
       "cylinders       0\n",
       "fuel            0\n",
       "odometer        0\n",
       "transmission    0\n",
       "type            0\n",
       "paint_color     0\n",
       "is_4wd          0\n",
       "date_posted     0\n",
       "days_listed     0\n",
       "dtype: int64"
      ]
     },
     "execution_count": 50,
     "metadata": {},
     "output_type": "execute_result"
    }
   ],
   "source": [
    "data.isna().sum()"
   ]
  },
  {
   "cell_type": "markdown",
   "id": "b5864906-e92a-4179-9dbd-19bfdbefe89c",
   "metadata": {},
   "source": [
    "<a id='web-app'></a>\n",
    "<div style=\"background-color: #d0e6a5; padding: 10px; border-radius: 5px;\">\n",
    "    <h2>Creating Web App</h2>\n",
    "</div>"
   ]
  },
  {
   "cell_type": "code",
   "execution_count": 51,
   "id": "78d2bb89-ba32-4ae7-b594-ec22c073aeea",
   "metadata": {},
   "outputs": [],
   "source": [
    "import urllib.request\n",
    "import pandas as pd\n",
    "import streamlit as st\n",
    "import plotly.express as px\n",
    "from PIL import Image"
   ]
  },
  {
   "cell_type": "code",
   "execution_count": 52,
   "id": "27b5c357-b452-44fc-954a-5f3ad287fa88",
   "metadata": {},
   "outputs": [
    {
     "name": "stderr",
     "output_type": "stream",
     "text": [
      "2024-11-03 19:26:46.085 WARNING streamlit.runtime.scriptrunner_utils.script_run_context: Thread 'MainThread': missing ScriptRunContext! This warning can be ignored when running in bare mode.\n",
      "2024-11-03 19:26:46.522 \n",
      "  \u001b[33m\u001b[1mWarning:\u001b[0m to view this Streamlit app on a browser, run it with the following\n",
      "  command:\n",
      "\n",
      "    streamlit run /opt/anaconda3/envs/spyder5.4.2/lib/python3.11/site-packages/ipykernel_launcher.py [ARGUMENTS]\n",
      "2024-11-03 19:26:46.523 Thread 'MainThread': missing ScriptRunContext! This warning can be ignored when running in bare mode.\n"
     ]
    },
    {
     "data": {
      "text/plain": [
       "DeltaGenerator()"
      ]
     },
     "execution_count": 52,
     "metadata": {},
     "output_type": "execute_result"
    }
   ],
   "source": [
    "st.subheader('Use this app to select a car based on the preferred parameters.')"
   ]
  },
  {
   "cell_type": "code",
   "execution_count": 53,
   "id": "374a186e-5400-415a-bb5a-4aebf0181347",
   "metadata": {},
   "outputs": [],
   "source": [
    "import urllib.request\n",
    "from PIL import Image"
   ]
  },
  {
   "cell_type": "code",
   "execution_count": 54,
   "id": "f0f0cd8c-b23d-4acd-89c3-7a560da5825b",
   "metadata": {},
   "outputs": [
    {
     "data": {
      "text/plain": [
       "('gfg.png', <http.client.HTTPMessage at 0x12c013b90>)"
      ]
     },
     "execution_count": 54,
     "metadata": {},
     "output_type": "execute_result"
    }
   ],
   "source": [
    "urllib.request.urlretrieve(\n",
    "    'https://www.linearity.io/blog/content/images/2023/06/how-to-create-a-car-NewBlogCover.png',\n",
    "    \"gfg.png\")"
   ]
  },
  {
   "cell_type": "code",
   "execution_count": 55,
   "id": "7aa9c19c-0194-45b7-bc11-aec5974a3a78",
   "metadata": {},
   "outputs": [
    {
     "name": "stderr",
     "output_type": "stream",
     "text": [
      "2024-11-03 19:26:49.222 Thread 'MainThread': missing ScriptRunContext! This warning can be ignored when running in bare mode.\n",
      "2024-11-03 19:26:49.268 Thread 'MainThread': missing ScriptRunContext! This warning can be ignored when running in bare mode.\n",
      "2024-11-03 19:26:49.269 Thread 'MainThread': missing ScriptRunContext! This warning can be ignored when running in bare mode.\n"
     ]
    }
   ],
   "source": [
    "img = Image.open(\"gfg.png\")\n",
    "st.image(img)\n",
    "img.show()"
   ]
  },
  {
   "cell_type": "code",
   "execution_count": 56,
   "id": "e8139190-d49c-462d-b70c-1013498f3c35",
   "metadata": {},
   "outputs": [
    {
     "name": "stderr",
     "output_type": "stream",
     "text": [
      "2024-11-03 19:26:49.634 Thread 'MainThread': missing ScriptRunContext! This warning can be ignored when running in bare mode.\n",
      "2024-11-03 19:26:49.643 Thread 'MainThread': missing ScriptRunContext! This warning can be ignored when running in bare mode.\n"
     ]
    },
    {
     "data": {
      "text/plain": [
       "DeltaGenerator()"
      ]
     },
     "execution_count": 56,
     "metadata": {},
     "output_type": "execute_result"
    }
   ],
   "source": [
    "st.caption(':red[Choose your parameters here]')"
   ]
  },
  {
   "cell_type": "code",
   "execution_count": 60,
   "id": "b72226c7-2dd9-4764-8a40-c621329a3027",
   "metadata": {},
   "outputs": [
    {
     "name": "stderr",
     "output_type": "stream",
     "text": [
      "2024-11-03 19:34:06.989 Thread 'MainThread': missing ScriptRunContext! This warning can be ignored when running in bare mode.\n",
      "2024-11-03 19:34:06.992 Thread 'MainThread': missing ScriptRunContext! This warning can be ignored when running in bare mode.\n",
      "2024-11-03 19:34:06.994 Thread 'MainThread': missing ScriptRunContext! This warning can be ignored when running in bare mode.\n",
      "2024-11-03 19:34:06.996 Thread 'MainThread': missing ScriptRunContext! This warning can be ignored when running in bare mode.\n"
     ]
    }
   ],
   "source": [
    "price_range = st.slider(\n",
    "     \"What is your price range?\",\n",
    "     value=(2, 100000))"
   ]
  },
  {
   "cell_type": "code",
   "execution_count": 59,
   "id": "9831103f-22f8-42f8-bce3-8b5b29620814",
   "metadata": {},
   "outputs": [],
   "source": [
    "actual_range=list(range(price_range[0],price_range[1]+1))"
   ]
  },
  {
   "cell_type": "code",
   "execution_count": 61,
   "id": "65ae9614-4d96-4559-922c-43d03fbc7270",
   "metadata": {},
   "outputs": [
    {
     "name": "stderr",
     "output_type": "stream",
     "text": [
      "2024-11-03 19:34:12.948 Thread 'MainThread': missing ScriptRunContext! This warning can be ignored when running in bare mode.\n",
      "2024-11-03 19:34:12.950 Thread 'MainThread': missing ScriptRunContext! This warning can be ignored when running in bare mode.\n",
      "2024-11-03 19:34:12.953 Thread 'MainThread': missing ScriptRunContext! This warning can be ignored when running in bare mode.\n",
      "2024-11-03 19:34:12.954 Thread 'MainThread': missing ScriptRunContext! This warning can be ignored when running in bare mode.\n"
     ]
    }
   ],
   "source": [
    "excellent_condition = st.checkbox('Only excellent condition, like new or new')\n",
    "\n",
    "if excellent_condition:\n",
    "    filtered_data=data[data.price.isin(actual_range)]\n",
    "    filtered_data = filtered_data[filtered_data['condition'].isin(['excellent', 'new', 'like new'])]\n",
    "else:\n",
    "    filtered_data=data[data.price.isin(actual_range)]"
   ]
  },
  {
   "cell_type": "code",
   "execution_count": 62,
   "id": "b793dd71-5fbc-4a6d-989a-631f24e02f56",
   "metadata": {},
   "outputs": [
    {
     "name": "stderr",
     "output_type": "stream",
     "text": [
      "2024-11-03 19:34:15.918 Thread 'MainThread': missing ScriptRunContext! This warning can be ignored when running in bare mode.\n",
      "2024-11-03 19:34:15.920 Thread 'MainThread': missing ScriptRunContext! This warning can be ignored when running in bare mode.\n",
      "2024-11-03 19:34:15.921 Thread 'MainThread': missing ScriptRunContext! This warning can be ignored when running in bare mode.\n",
      "2024-11-03 19:34:15.923 Thread 'MainThread': missing ScriptRunContext! This warning can be ignored when running in bare mode.\n"
     ]
    }
   ],
   "source": [
    "st.write('Here are your options with a split by price and condition')"
   ]
  },
  {
   "cell_type": "code",
   "execution_count": 63,
   "id": "175ae984-8534-4316-87e2-c48c2e073086",
   "metadata": {},
   "outputs": [
    {
     "name": "stderr",
     "output_type": "stream",
     "text": [
      "2024-11-03 19:34:25.009 Thread 'MainThread': missing ScriptRunContext! This warning can be ignored when running in bare mode.\n",
      "2024-11-03 19:34:25.013 Thread 'MainThread': missing ScriptRunContext! This warning can be ignored when running in bare mode.\n",
      "2024-11-03 19:34:25.016 Thread 'MainThread': missing ScriptRunContext! This warning can be ignored when running in bare mode.\n"
     ]
    },
    {
     "data": {
      "text/plain": [
       "DeltaGenerator()"
      ]
     },
     "execution_count": 63,
     "metadata": {},
     "output_type": "execute_result"
    }
   ],
   "source": [
    "fig = px.scatter(filtered_data, x=\"price\", y=\"condition\")           \n",
    "st.plotly_chart(fig)"
   ]
  },
  {
   "cell_type": "code",
   "execution_count": 64,
   "id": "1765deaf-cd9c-498f-8e88-ae23b5ebb6ac",
   "metadata": {},
   "outputs": [
    {
     "name": "stderr",
     "output_type": "stream",
     "text": [
      "2024-11-03 19:34:30.655 Thread 'MainThread': missing ScriptRunContext! This warning can be ignored when running in bare mode.\n",
      "2024-11-03 19:34:30.658 Thread 'MainThread': missing ScriptRunContext! This warning can be ignored when running in bare mode.\n",
      "2024-11-03 19:34:30.659 Thread 'MainThread': missing ScriptRunContext! This warning can be ignored when running in bare mode.\n",
      "2024-11-03 19:34:30.662 Thread 'MainThread': missing ScriptRunContext! This warning can be ignored when running in bare mode.\n",
      "2024-11-03 19:34:30.931 Thread 'MainThread': missing ScriptRunContext! This warning can be ignored when running in bare mode.\n",
      "2024-11-03 19:34:30.933 Thread 'MainThread': missing ScriptRunContext! This warning can be ignored when running in bare mode.\n",
      "2024-11-03 19:34:30.934 Thread 'MainThread': missing ScriptRunContext! This warning can be ignored when running in bare mode.\n"
     ]
    },
    {
     "data": {
      "text/plain": [
       "DeltaGenerator()"
      ]
     },
     "execution_count": 64,
     "metadata": {},
     "output_type": "execute_result"
    }
   ],
   "source": [
    "st.write('Distribution of distnace driven of filtered cars')\n",
    "fig2 = px.histogram(filtered_data, x=\"odometer\")\n",
    "st.plotly_chart(fig2)"
   ]
  },
  {
   "cell_type": "code",
   "execution_count": 65,
   "id": "a378b60f-8c8f-42cc-a654-4e8433ced787",
   "metadata": {},
   "outputs": [
    {
     "name": "stderr",
     "output_type": "stream",
     "text": [
      "2024-11-03 19:34:35.242 Thread 'MainThread': missing ScriptRunContext! This warning can be ignored when running in bare mode.\n",
      "2024-11-03 19:34:35.245 Thread 'MainThread': missing ScriptRunContext! This warning can be ignored when running in bare mode.\n",
      "2024-11-03 19:34:35.249 Thread 'MainThread': missing ScriptRunContext! This warning can be ignored when running in bare mode.\n",
      "2024-11-03 19:34:35.251 Thread 'MainThread': missing ScriptRunContext! This warning can be ignored when running in bare mode.\n",
      "2024-11-03 19:34:35.267 Thread 'MainThread': missing ScriptRunContext! This warning can be ignored when running in bare mode.\n",
      "2024-11-03 19:34:35.268 Thread 'MainThread': missing ScriptRunContext! This warning can be ignored when running in bare mode.\n"
     ]
    },
    {
     "data": {
      "text/plain": [
       "DeltaGenerator()"
      ]
     },
     "execution_count": 65,
     "metadata": {},
     "output_type": "execute_result"
    }
   ],
   "source": [
    "st.write('Here is the list of recommended cars')\n",
    "st.dataframe(filtered_data.sample(40))"
   ]
  },
  {
   "cell_type": "code",
   "execution_count": null,
   "id": "20800646-1925-4ad6-96c2-f64d94f91795",
   "metadata": {},
   "outputs": [],
   "source": []
  },
  {
   "cell_type": "code",
   "execution_count": null,
   "id": "b3f65717-bd12-4797-9277-a42b02cdb58a",
   "metadata": {},
   "outputs": [],
   "source": []
  },
  {
   "cell_type": "code",
   "execution_count": null,
   "id": "d38b18c4-a1d1-4b16-a50b-524a94a9b36e",
   "metadata": {},
   "outputs": [],
   "source": []
  },
  {
   "cell_type": "code",
   "execution_count": null,
   "id": "cbd4bfbb-531e-488f-8414-0d29ed02f9a6",
   "metadata": {},
   "outputs": [],
   "source": []
  },
  {
   "cell_type": "code",
   "execution_count": null,
   "id": "7084ef4a-419d-44cf-882c-f7c0d277090b",
   "metadata": {},
   "outputs": [],
   "source": []
  },
  {
   "cell_type": "code",
   "execution_count": null,
   "id": "1a572b5d-c3a1-41e8-80ab-fde0a1b66a42",
   "metadata": {},
   "outputs": [],
   "source": []
  }
 ],
 "metadata": {
  "kernelspec": {
   "display_name": "Python 3 (ipykernel)",
   "language": "python",
   "name": "python3"
  },
  "language_info": {
   "codemirror_mode": {
    "name": "ipython",
    "version": 3
   },
   "file_extension": ".py",
   "mimetype": "text/x-python",
   "name": "python",
   "nbconvert_exporter": "python",
   "pygments_lexer": "ipython3",
   "version": "3.11.10"
  }
 },
 "nbformat": 4,
 "nbformat_minor": 5
}
