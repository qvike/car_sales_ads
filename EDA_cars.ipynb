{
 "cells": [
  {
   "cell_type": "code",
   "execution_count": 4,
   "id": "44a6d218-7e9d-4dd5-b478-53d291c2c5b3",
   "metadata": {},
   "outputs": [],
   "source": [
    "import pandas as pd\n",
    "data = pd.read_csv('vehicles_us.csv')\n",
    "#from ydata_profiling import ProfileReport"
   ]
  },
  {
   "cell_type": "code",
   "execution_count": 5,
   "id": "056f90a0-c2b5-4f33-b7d6-9048a81dca4d",
   "metadata": {},
   "outputs": [
    {
     "name": "stdout",
     "output_type": "stream",
     "text": [
      "<class 'pandas.core.frame.DataFrame'>\n",
      "RangeIndex: 51525 entries, 0 to 51524\n",
      "Data columns (total 13 columns):\n",
      " #   Column        Non-Null Count  Dtype  \n",
      "---  ------        --------------  -----  \n",
      " 0   price         51525 non-null  int64  \n",
      " 1   model_year    47906 non-null  float64\n",
      " 2   model         51525 non-null  object \n",
      " 3   condition     51525 non-null  object \n",
      " 4   cylinders     46265 non-null  float64\n",
      " 5   fuel          51525 non-null  object \n",
      " 6   odometer      43633 non-null  float64\n",
      " 7   transmission  51525 non-null  object \n",
      " 8   type          51525 non-null  object \n",
      " 9   paint_color   42258 non-null  object \n",
      " 10  is_4wd        25572 non-null  float64\n",
      " 11  date_posted   51525 non-null  object \n",
      " 12  days_listed   51525 non-null  int64  \n",
      "dtypes: float64(4), int64(2), object(7)\n",
      "memory usage: 5.1+ MB\n"
     ]
    }
   ],
   "source": [
    "# Check characteristics of the table: name and amount of columns and type of values\n",
    "data.info()"
   ]
  },
  {
   "cell_type": "markdown",
   "id": "2a1e8b2e-41a7-43a8-90db-444cc31d2cdc",
   "metadata": {},
   "source": [
    "The names of the columns are written in the snake lowercase. No need in renaming."
   ]
  },
  {
   "cell_type": "code",
   "execution_count": null,
   "id": "44f5d47b-11ab-499f-aa0c-7480895b2bb6",
   "metadata": {},
   "outputs": [],
   "source": [
    "# Check the quality of data in the columns\n",
    "data.head(10)  "
   ]
  },
  {
   "cell_type": "markdown",
   "id": "9ba4f3b2-ff61-4c56-b835-f328032f172e",
   "metadata": {},
   "source": [
    "\n"
   ]
  },
  {
   "cell_type": "markdown",
   "id": "7f9f7ef8-7d52-447e-96e7-07063c35fc0d",
   "metadata": {},
   "source": [
    "## DUPLICATES"
   ]
  },
  {
   "cell_type": "code",
   "execution_count": null,
   "id": "e788d55a-68b5-4029-bff1-7909d1de89f4",
   "metadata": {},
   "outputs": [],
   "source": [
    "# Check apparent duplicates in the table\n",
    "\n",
    "print(data.duplicated().sum())\n",
    "duplicates=data[data.duplicated()]\n",
    "print(duplicates)"
   ]
  },
  {
   "cell_type": "code",
   "execution_count": null,
   "id": "6b8ab3b2-ceb7-48d7-acf8-cfeb40c10b64",
   "metadata": {},
   "outputs": [],
   "source": [
    "# No apparent duplicates found."
   ]
  },
  {
   "cell_type": "code",
   "execution_count": null,
   "id": "cb3ae2b0-2aee-42a1-b561-d31620943474",
   "metadata": {},
   "outputs": [],
   "source": [
    "# Check implicit duplicates in the table - column \"model\"\n",
    "\n",
    "print(data['model'].sort_values().unique())"
   ]
  },
  {
   "cell_type": "code",
   "execution_count": null,
   "id": "9c0c0977-8e45-4181-8c32-19f02fa480a9",
   "metadata": {},
   "outputs": [],
   "source": [
    "# Loop through unique models to find those containing \"ford f\"\n",
    "\n",
    "for model in data['model'].unique():\n",
    "    if \"ford f\" in model.lower():\n",
    "        print(model)"
   ]
  },
  {
   "cell_type": "code",
   "execution_count": null,
   "id": "d6fe0300-b804-4412-b9cb-730b0c72c337",
   "metadata": {},
   "outputs": [],
   "source": [
    "# Loop through unique models to find those containing \"ford\" and \"150\"\n",
    "\n",
    "for model in data['model'].unique():\n",
    "    if \"ford\" in model.lower() and \"150\" in model.lower():\n",
    "        print(model)"
   ]
  },
  {
   "cell_type": "code",
   "execution_count": null,
   "id": "b38b977e-b9f3-4668-ae15-9770bbf1a3c1",
   "metadata": {},
   "outputs": [],
   "source": [
    "# function for replacing implicit duplicates\n",
    "wrong_ford_150 = ['ford f150','ford f150 supercrew cab xlt'] #list of duplicates\n",
    "correct_ford_150 = 'ford f-150' #string - correct value\n",
    "\n",
    "# Define the function with a condition for replacement\n",
    "def replace_wrong_ford_150(wrong_ford_150, correct_ford_150):\n",
    "    for pattern in wrong_ford_150:\n",
    "        # Use regex replacement to target specific parts of the model names\n",
    "        data['model'] = data['model'].str.replace(rf'\\b{pattern}\\b', correct_ford_150, regex=True)\n",
    "        \n",
    "replace_wrong_ford_150(wrong_ford_150, correct_ford_150)"
   ]
  },
  {
   "cell_type": "code",
   "execution_count": null,
   "id": "0f638529-9934-4e00-a405-4bf657c85d98",
   "metadata": {},
   "outputs": [],
   "source": [
    "# Check unique models, containing \"ford\" and \"150\"\n",
    "\n",
    "for model in data['model'].unique():\n",
    "    if \"ford\" in model.lower() and \"150\" in model.lower():\n",
    "        print(model)"
   ]
  },
  {
   "cell_type": "code",
   "execution_count": null,
   "id": "d430c24d-3299-4cf5-ae61-26da9029350e",
   "metadata": {},
   "outputs": [],
   "source": [
    "# Loop through unique models to find those containing \"ford\" and \"250\"\n",
    "\n",
    "for model in data['model'].unique():\n",
    "    if \"ford\" in model.lower() and \"250\" in model.lower():\n",
    "        print(model)"
   ]
  },
  {
   "cell_type": "code",
   "execution_count": null,
   "id": "51695784-5530-48cf-ba4f-5a72d8a2fe99",
   "metadata": {},
   "outputs": [],
   "source": [
    "# function for replacing implicit duplicates\n",
    "wrong_ford_250 = ['ford f250 super duty','ford f250'] \n",
    "correct_ford_250 = 'ford f-250' \n",
    "\n",
    "# Define the function with a condition for replacement\n",
    "def replace_wrong_ford_250(wrong_ford_250, correct_ford_250):\n",
    "    for pattern in wrong_ford_250:\n",
    "        # Use regex replacement to target specific parts of the model names\n",
    "        data['model'] = data['model'].str.replace(rf'\\b{pattern}\\b', correct_ford_250, regex=True)\n",
    "    # Replace 'super duty' with 'sd' (case-insensitive)\n",
    "    data['model'] = data['model'].str.replace(r'(?i)super duty', 'sd', regex=True)\n",
    "\n",
    "replace_wrong_ford_250(wrong_ford_250, correct_ford_250)"
   ]
  },
  {
   "cell_type": "code",
   "execution_count": null,
   "id": "c77a047a-bf82-4a76-84e7-3f41b093c32f",
   "metadata": {},
   "outputs": [],
   "source": [
    "# Check unique models, containing \"ford\" and \"250\"\n",
    "\n",
    "for model in data['model'].unique():\n",
    "    if \"ford\" in model.lower() and \"250\" in model.lower():\n",
    "        print(model)"
   ]
  },
  {
   "cell_type": "code",
   "execution_count": null,
   "id": "239bc62e-82a4-46ec-b857-6b5d0d2bffca",
   "metadata": {},
   "outputs": [],
   "source": [
    "# Loop through unique models to find those containing \"ford\" and \"350\"\n",
    "\n",
    "for model in data['model'].unique():\n",
    "    if \"ford\" in model.lower() and \"350\" in model.lower():\n",
    "        print(model)"
   ]
  },
  {
   "cell_type": "code",
   "execution_count": null,
   "id": "334a62a7-985e-4209-96c0-eddfc15ece83",
   "metadata": {},
   "outputs": [],
   "source": [
    "# function for replacing implicit duplicates\n",
    "wrong_ford_350 = ['ford f350 sd','ford f350'] \n",
    "correct_ford_350 = 'ford f-350' \n",
    "\n",
    "# Define the function with a condition for replacement\n",
    "def replace_wrong_ford_350(wrong_ford_350, correct_ford_350):\n",
    "    for pattern in wrong_ford_350:\n",
    "        # Use regex replacement to target specific parts of the model names\n",
    "        data['model'] = data['model'].str.replace(rf'\\b{pattern}\\b', correct_ford_350, regex=True)\n",
    "\n",
    "replace_wrong_ford_350(wrong_ford_350, correct_ford_350)"
   ]
  },
  {
   "cell_type": "code",
   "execution_count": null,
   "id": "f670c4b5-e3fc-4a89-bc78-61444768fa9f",
   "metadata": {},
   "outputs": [],
   "source": [
    "# Check unique models, containing \"ford\" and \"350\"\n",
    "\n",
    "for model in data['model'].unique():\n",
    "    if \"ford\" in model.lower() and \"350\" in model.lower():\n",
    "        print(model)"
   ]
  },
  {
   "cell_type": "code",
   "execution_count": null,
   "id": "3ecae373-247c-4058-be8f-0952ebee3b6f",
   "metadata": {},
   "outputs": [],
   "source": [
    "print(data['model'].sort_values().unique())"
   ]
  },
  {
   "cell_type": "markdown",
   "id": "16597658-761f-459f-961a-fe9692ebfa9f",
   "metadata": {},
   "source": [
    "## YDATA REPORT"
   ]
  },
  {
   "cell_type": "code",
   "execution_count": null,
   "id": "9bbc1db8-df88-43cf-a34a-cc54f65cc9de",
   "metadata": {
    "scrolled": true
   },
   "outputs": [],
   "source": [
    "#Auxiliary Data Analysis\n",
    "#data.profile_report()"
   ]
  },
  {
   "cell_type": "markdown",
   "id": "0bb93428-89b1-4d86-8b0f-ca08238d6e05",
   "metadata": {},
   "source": [
    "## MISSING VALUES"
   ]
  },
  {
   "cell_type": "code",
   "execution_count": null,
   "id": "eb8c11c4-11dd-4bf6-8aa7-e83fd25f23f9",
   "metadata": {},
   "outputs": [],
   "source": [
    "# Check missing values\n",
    "\n",
    "data.isna().sum()"
   ]
  },
  {
   "cell_type": "markdown",
   "id": "5477032c-dbd7-4ce4-8d08-4f319422efad",
   "metadata": {},
   "source": [
    "### Columns that contain missing values:\n",
    "- model_year\n",
    "- cylinders\n",
    "- odometer\n",
    "- paint_color\n",
    "- is_4wd\n",
    "\n",
    "We state high correllation between:\n",
    "- model year to odometer (distance the car has driven) and price\n",
    "- odometer to model year\n",
    "- price to model year"
   ]
  },
  {
   "cell_type": "markdown",
   "id": "2236cbda-d294-479a-9b52-e490f7fcff00",
   "metadata": {},
   "source": [
    "### Column 'paint_color'"
   ]
  },
  {
   "cell_type": "code",
   "execution_count": null,
   "id": "bbf7edcc-8b6d-454f-bca7-7256f6585acc",
   "metadata": {},
   "outputs": [],
   "source": [
    "# Number of missing valaues in column 'paint_color'\n",
    "\n",
    "print(data['paint_color'].isna().sum())"
   ]
  },
  {
   "cell_type": "code",
   "execution_count": null,
   "id": "9a9777ee-e477-4ea8-bd4c-b055f2b43fd3",
   "metadata": {},
   "outputs": [],
   "source": [
    "# Replace missing values in column 'paint_color' by 'unknown'\n",
    "\n",
    "data['paint_color']=data['paint_color'].fillna('unknown')\n",
    "print(data['paint_color'].unique())"
   ]
  },
  {
   "cell_type": "markdown",
   "id": "3907a611-ac02-4ffb-9295-f68512be6b67",
   "metadata": {},
   "source": [
    "### Column 'model_year'"
   ]
  },
  {
   "cell_type": "code",
   "execution_count": null,
   "id": "9911ad2f-b0ab-4770-9a5f-424ec3053ff4",
   "metadata": {},
   "outputs": [],
   "source": [
    "# Check number of missing values in the column 'model_year'\n",
    "\n",
    "print(data['model_year'].isna().sum())"
   ]
  },
  {
   "cell_type": "code",
   "execution_count": null,
   "id": "cd9b65fd-e4d4-4d1b-8b26-24cf60863f5a",
   "metadata": {},
   "outputs": [],
   "source": [
    "# Calculate mean 'model_year' for each 'model'\n",
    "\n",
    "mean_model_year = data.groupby('model')['model_year'].mean().round(1)\n",
    "print(mean_model_year)"
   ]
  },
  {
   "cell_type": "code",
   "execution_count": null,
   "id": "bc6bccf5-b3af-4c63-861e-367bb7230291",
   "metadata": {},
   "outputs": [],
   "source": [
    "# Create custom function to replace missing 'model_year' by the mean value of the corresponding 'model'\n",
    "\n",
    "def fill_missing_model_year(row):\n",
    "    if pd.isna(row['model_year']):\n",
    "        return mean_model_year.get(row['model'],row['model_year'])\n",
    "    else:\n",
    "        return row['model_year']\n",
    "\n",
    "data['model_year']=data.apply(fill_missing_model_year, axis=1)\n",
    "print(data['model_year'].isna().sum())"
   ]
  },
  {
   "cell_type": "markdown",
   "id": "d0dd186c-71cc-416b-a0d8-3333ea42c0b5",
   "metadata": {},
   "source": [
    "### Column 'cylinders'"
   ]
  },
  {
   "cell_type": "code",
   "execution_count": null,
   "id": "e9e2585d-a7ec-4be5-81f4-625b7ed141b4",
   "metadata": {},
   "outputs": [],
   "source": [
    "print(data['cylinders'].isna().sum())\n",
    "print(data['cylinders'].unique())"
   ]
  },
  {
   "cell_type": "code",
   "execution_count": null,
   "id": "4deda1cc-2591-4503-866f-b3e03bbf5caf",
   "metadata": {},
   "outputs": [],
   "source": [
    "# Replace missing values in column 'cylinders' by '0.0'\n",
    "\n",
    "data['cylinders']=data['cylinders'].fillna(0.0)\n",
    "print(data['cylinders'].isna().sum())\n",
    "print(data['cylinders'].unique())"
   ]
  },
  {
   "cell_type": "markdown",
   "id": "e5e73d2a-4161-4db4-bc39-5d7eef601158",
   "metadata": {},
   "source": [
    "### Column 'odometer'"
   ]
  },
  {
   "cell_type": "code",
   "execution_count": null,
   "id": "16ff24e5-9ed2-4486-9f87-77dfd7a012da",
   "metadata": {},
   "outputs": [],
   "source": [
    "# Calculate number of missing values in 'odometer' column\n",
    "\n",
    "print(data['odometer'].isna().sum())"
   ]
  },
  {
   "cell_type": "code",
   "execution_count": null,
   "id": "384fa44e-b5d8-4d77-9fac-8300a8229968",
   "metadata": {},
   "outputs": [],
   "source": [
    "# Calculate mean distance driven by car by 'model'\n",
    "\n",
    "mean_model_distance = data.groupby('model')['odometer'].mean().round(1)\n",
    "print(mean_model_distance)"
   ]
  },
  {
   "cell_type": "code",
   "execution_count": null,
   "id": "76a69c8a-de6a-43ee-bd08-dce49e9e9080",
   "metadata": {},
   "outputs": [],
   "source": [
    "# Create custom function to replace missing 'odometer' by the mean value of the corresponding 'model'\n",
    "\n",
    "def fill_missing_odometer(row):\n",
    "    if pd.isna(row['odometer']):\n",
    "        return mean_model_distance.get(row['model'],row['odometer'])\n",
    "    else:\n",
    "        return row['odometer']\n",
    "\n",
    "data['odometer']=data.apply(fill_missing_odometer, axis=1)\n",
    "still_missing_odometer=data['odometer'].isna()\n",
    "print(still_missing_odometer)"
   ]
  },
  {
   "cell_type": "code",
   "execution_count": null,
   "id": "16f2de10-2843-4256-a5dd-003e32bfd2ec",
   "metadata": {},
   "outputs": [],
   "source": [
    "odometer_mean=data['odometer'].mean().round(1)\n",
    "print(odometer_mean)"
   ]
  },
  {
   "cell_type": "code",
   "execution_count": null,
   "id": "c2c68993-70ac-4bfd-9779-556fa245ab41",
   "metadata": {},
   "outputs": [],
   "source": [
    "data.loc[still_missing_odometer, 'odometer'] = odometer_mean\n",
    "print(data['odometer'].isna().sum())"
   ]
  },
  {
   "cell_type": "markdown",
   "id": "8343fdb6-554e-450c-91bb-dafc36e14887",
   "metadata": {},
   "source": [
    "### Column 'is_4wd'"
   ]
  },
  {
   "cell_type": "code",
   "execution_count": null,
   "id": "523f94d2-ed4c-4ced-a193-63300a664e2f",
   "metadata": {},
   "outputs": [],
   "source": [
    "print(data['is_4wd'].isna().sum())\n",
    "print(data['is_4wd'].isnull().sum())\n",
    "print(data['is_4wd'].unique())"
   ]
  },
  {
   "cell_type": "code",
   "execution_count": null,
   "id": "cfe67b02-9326-45c0-92a4-84dab0cbab34",
   "metadata": {},
   "outputs": [],
   "source": [
    "print(data.groupby('type')['is_4wd'].sum())"
   ]
  },
  {
   "cell_type": "code",
   "execution_count": null,
   "id": "648bdcf7-d677-4e79-be80-c636697f64e3",
   "metadata": {},
   "outputs": [],
   "source": [
    "# Create a variable for the rest of missing values in column 'is_4wd'\n",
    "\n",
    "missing_4wd = data['is_4wd'].isna()\n",
    "print(missing_4wd)"
   ]
  },
  {
   "cell_type": "code",
   "execution_count": null,
   "id": "14f9f383-5f46-4c4f-9ffd-4de2b2b0892d",
   "metadata": {},
   "outputs": [],
   "source": [
    "# List all unique 'model' types\n",
    "\n",
    "print(data['model'].sort_values().unique())"
   ]
  },
  {
   "cell_type": "code",
   "execution_count": null,
   "id": "8b6439c7-b915-444b-a791-8c5cf2ea4355",
   "metadata": {},
   "outputs": [],
   "source": [
    "# Create a list of models that have 4x4 version (i.e. 'is_4wd)\n",
    "\n",
    "model_4x4=['bmw x5', 'buick enclave', 'cadillac escalade', 'chevrolet colorado', 'chevrolet equinox', 'chevrolet silverado', \n",
    "           'chevrolet silverado 1500', 'chevrolet silverado 2500hd', 'chevrolet silverado 3500hd', 'chevrolet suburban', \n",
    "           'chevrolet tahoe', 'chevrolet trailblazer', 'chevrolet traverse', 'dodge dakota', 'ford expedition', 'ford explorer', \n",
    "           'ford f-150', 'ford f-250', 'ford f-250 sd', 'ford f-350', 'ford f-350 sd', 'gmc acadia', 'gmc sierra', 'gmc sierra 1500', \n",
    "           'gmc sierra 2500hd', 'gmc yukon', 'honda cr-v', 'honda pilot', 'hyundai santa fe', 'jeep cherokee', 'jeep grand cherokee', \n",
    "           'jeep grand cherokee laredo', 'jeep liberty', 'jeep wrangler', 'jeep wrangler unlimited', 'kia sorento', 'nissan frontier', \n",
    "           'nissan frontier crew cab sv', 'nissan murano', 'nissan rogue', 'ram 1500', 'ram 2500', 'ram 3500', 'subaru forester', \n",
    "           'subaru impreza', 'subaru outback', 'toyota 4runner', 'toyota highlander', 'toyota rav4', 'toyota tacoma', 'toyota tundra']\n"
   ]
  },
  {
   "cell_type": "code",
   "execution_count": null,
   "id": "80cd6e5f-3147-4b08-9fee-0efc2468a822",
   "metadata": {},
   "outputs": [],
   "source": [
    "# Create a loop through the object with the missing values of 'is_4wd' column to check, if the model is in the list of 'model_4x4'.\n",
    "# If yes, then replace the missing value by 1, else 0\n",
    "\n",
    "for index, row in data[missing_4wd].iterrows():\n",
    "    if row['model'] in model_4x4:\n",
    "        data.at[index, 'is_4wd'] = 1 \n",
    "    else:\n",
    "        data.at[index, 'is_4wd'] = 0\n",
    "\n",
    "print(data[['model', 'is_4wd']].head())"
   ]
  },
  {
   "cell_type": "code",
   "execution_count": null,
   "id": "292cd7ef-42ee-4282-a354-1f3dea772196",
   "metadata": {},
   "outputs": [],
   "source": [
    "# Check number of missing values in column 'is_4wd'\n",
    "\n",
    "print(data['is_4wd'].isna().sum())"
   ]
  },
  {
   "cell_type": "code",
   "execution_count": null,
   "id": "407cc452-dbe8-4cd7-9bd5-99f35a4092d4",
   "metadata": {},
   "outputs": [],
   "source": [
    "data.isna().sum()"
   ]
  },
  {
   "cell_type": "markdown",
   "id": "29b848e1-66b6-4650-8a40-40ce1a02dc9a",
   "metadata": {},
   "source": [
    "## Removing Outliers"
   ]
  },
  {
   "cell_type": "markdown",
   "id": "fe47f70a-16a2-4769-a08a-f91385a5ebfc",
   "metadata": {},
   "source": [
    "### Outliers in 'price'"
   ]
  },
  {
   "cell_type": "code",
   "execution_count": null,
   "id": "e664eb4f-4027-4164-b894-d8777427912e",
   "metadata": {},
   "outputs": [],
   "source": [
    "# Find price borders for the outliers\n",
    "\n",
    "q1 = data['price'].quantile(0.01)\n",
    "q99 = data['price'].quantile(0.99)\n",
    "print(q1)\n",
    "print(q99)"
   ]
  },
  {
   "cell_type": "code",
   "execution_count": null,
   "id": "d15aa914-1c75-43b7-9472-a7a2ef1f4af8",
   "metadata": {},
   "outputs": [],
   "source": [
    "# Check the amount of rows with extremely high price (>= 100000)\n",
    "\n",
    "outliers_max=data[(data['price'] >= 100000)] \n",
    "outliers_max.shape"
   ]
  },
  {
   "cell_type": "code",
   "execution_count": null,
   "id": "d46f3b4b-9187-4a8c-b409-3a82a1788e1d",
   "metadata": {},
   "outputs": [],
   "source": [
    "# Check the amount of rows with extremely low price (<= 1)\n",
    "\n",
    "outliers_min=data[(data['price'] <= 1)] \n",
    "outliers_min.shape"
   ]
  },
  {
   "cell_type": "code",
   "execution_count": null,
   "id": "aa3a402e-5947-444f-852c-b3cf1f98a431",
   "metadata": {},
   "outputs": [],
   "source": [
    "print(data['price'].isna().sum())"
   ]
  },
  {
   "cell_type": "code",
   "execution_count": null,
   "id": "77862a7d-4049-40b7-8892-24018e3469b2",
   "metadata": {},
   "outputs": [],
   "source": [
    "# Remove outliers in price = keep the rows that stay between the price borders\n",
    "\n",
    "data_filtered = data[(data['price'] >= 1) & (data['price'] <= 100000)]\n",
    "print(data_filtered)\n"
   ]
  },
  {
   "cell_type": "code",
   "execution_count": null,
   "id": "d63bc97b-7206-423e-ae5c-9a88f48aa54a",
   "metadata": {},
   "outputs": [],
   "source": [
    "# Check if the outliers are removed\n",
    "\n",
    "outliers_1=data_filtered['price'] < 1\n",
    "outliers_100000=data_filtered['price'] > 100000\n",
    "\n",
    "print(outliers_1.sum())\n",
    "print(outliers_100000.sum())"
   ]
  },
  {
   "cell_type": "markdown",
   "id": "703434d5-6bbe-42cb-a408-012fce34b2b3",
   "metadata": {},
   "source": [
    "### Outliers in 'model_year'"
   ]
  },
  {
   "cell_type": "code",
   "execution_count": null,
   "id": "f13fd457-c814-401e-bcdc-3f788d4fae4e",
   "metadata": {},
   "outputs": [],
   "source": [
    "# Find model_year borders for the outliers\n",
    "\n",
    "q1 = data['model_year'].quantile(0.01)\n",
    "q99 = data['model_year'].quantile(0.99)\n",
    "print(q1)\n",
    "print(q99)"
   ]
  },
  {
   "cell_type": "code",
   "execution_count": null,
   "id": "573ca1b3-872a-434c-bb88-29894c198834",
   "metadata": {},
   "outputs": [],
   "source": [
    "# Check the amount of rows with extremely old cars (<= 1970)\n",
    "\n",
    "outliers_old_cars=data[(data['model_year'] <= 1970)] \n",
    "outliers_old_cars.shape"
   ]
  },
  {
   "cell_type": "code",
   "execution_count": null,
   "id": "af833369-e3fe-4fff-a87b-0d8825034ed1",
   "metadata": {},
   "outputs": [],
   "source": [
    "# Remove outliers in model_year = keep the rows with the year, greater than 1970\n",
    "\n",
    "data_filtered_year = data[(data['model_year'] >= 1970)] \n",
    "print(data_filtered_year)"
   ]
  },
  {
   "cell_type": "code",
   "execution_count": null,
   "id": "d042eeae-a046-4ef2-a4af-e4d0c5696c1e",
   "metadata": {},
   "outputs": [],
   "source": [
    "# Check the amount of rows with extremely old cars (< 1970)\n",
    "\n",
    "outliers_1970=data_filtered_year['model_year'] < 1970\n",
    "print(outliers_1970.sum())"
   ]
  },
  {
   "cell_type": "code",
   "execution_count": 6,
   "id": "f9658be4-169c-4f07-981f-bb585b2186e1",
   "metadata": {},
   "outputs": [
    {
     "name": "stdout",
     "output_type": "stream",
     "text": [
      "['excellent' 'fair' 'good' 'like new' 'new' 'salvage']\n"
     ]
    }
   ],
   "source": [
    "print(data['condition'].sort_values().unique())"
   ]
  },
  {
   "cell_type": "code",
   "execution_count": null,
   "id": "7b375f36-f4b7-4e45-9780-97a3b13ea21b",
   "metadata": {},
   "outputs": [],
   "source": []
  }
 ],
 "metadata": {
  "kernelspec": {
   "display_name": "Python 3 (ipykernel)",
   "language": "python",
   "name": "python3"
  },
  "language_info": {
   "codemirror_mode": {
    "name": "ipython",
    "version": 3
   },
   "file_extension": ".py",
   "mimetype": "text/x-python",
   "name": "python",
   "nbconvert_exporter": "python",
   "pygments_lexer": "ipython3",
   "version": "3.11.10"
  }
 },
 "nbformat": 4,
 "nbformat_minor": 5
}
